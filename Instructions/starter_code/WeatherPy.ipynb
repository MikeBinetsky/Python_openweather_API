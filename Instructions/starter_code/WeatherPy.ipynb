{
 "cells": [
  {
   "cell_type": "markdown",
   "metadata": {},
   "source": [
    "# WeatherPy\n",
    "----\n",
    "\n",
    "#### Note\n",
    "* Instructions have been included for each segment. You do not have to follow them exactly, but they are included to help you think through the steps."
   ]
  },
  {
   "cell_type": "code",
   "execution_count": 1,
   "metadata": {},
   "outputs": [],
   "source": [
    "## Hello!\n",
    "## Since the starter code uses a single # to mark its comments, I will be using ## to mark anything I've written\n",
    "## So like these comments here, if you see ## that means I wrote it."
   ]
  },
  {
   "cell_type": "code",
   "execution_count": 2,
   "metadata": {},
   "outputs": [],
   "source": [
    "## If Citipy doesn't work, comment out the below line of code and run that before running the rest.\n",
    "## !pip install citipy"
   ]
  },
  {
   "cell_type": "code",
   "execution_count": 3,
   "metadata": {
    "scrolled": true
   },
   "outputs": [],
   "source": [
    "# Dependencies and Setup\n",
    "import matplotlib.pyplot as plt\n",
    "import pandas as pd\n",
    "import numpy as np\n",
    "import requests\n",
    "import time\n",
    "from scipy.stats import linregress\n",
    "import csv\n",
    "\n",
    "# Import API key\n",
    "from api_keys import weather_api_key\n",
    "\n",
    "# Incorporated citipy to determine city based on latitude and longitude\n",
    "from citipy import citipy\n",
    "\n",
    "# Output File (CSV)\n",
    "output_data_file = \"../output_data/cities.csv\"\n",
    "\n",
    "# Range of latitudes and longitudes\n",
    "lat_range = (-90, 90)\n",
    "lng_range = (-180, 180)"
   ]
  },
  {
   "cell_type": "markdown",
   "metadata": {},
   "source": [
    "## Generate Cities List"
   ]
  },
  {
   "cell_type": "code",
   "execution_count": 4,
   "metadata": {},
   "outputs": [],
   "source": [
    "## This next segment grabs a number of cities at random using the ranges above and stores them in a list"
   ]
  },
  {
   "cell_type": "code",
   "execution_count": 5,
   "metadata": {},
   "outputs": [
    {
     "data": {
      "text/plain": [
       "614"
      ]
     },
     "execution_count": 5,
     "metadata": {},
     "output_type": "execute_result"
    }
   ],
   "source": [
    "# List for holding lat_lngs and cities\n",
    "lat_lngs = []\n",
    "cities = []\n",
    "\n",
    "# Create a set of random lat and lng combinations\n",
    "lats = np.random.uniform(lat_range[0], lat_range[1], size=1500)\n",
    "lngs = np.random.uniform(lng_range[0], lng_range[1], size=1500)\n",
    "lat_lngs = zip(lats, lngs)\n",
    "\n",
    "# Identify nearest city for each lat, lng combination\n",
    "for lat_lng in lat_lngs:\n",
    "    city = citipy.nearest_city(lat_lng[0], lat_lng[1]).city_name\n",
    "    \n",
    "    # If the city is unique, then add it to a our cities list\n",
    "    if city not in cities:\n",
    "        cities.append(city)\n",
    "\n",
    "# Print the city count to confirm sufficient count\n",
    "len(cities)"
   ]
  },
  {
   "cell_type": "markdown",
   "metadata": {},
   "source": [
    "### Perform API Calls\n",
    "* Perform a weather check on each city using a series of successive API calls.\n",
    "* Include a print log of each city as it'sbeing processed (with the city number and city name).\n"
   ]
  },
  {
   "cell_type": "code",
   "execution_count": 6,
   "metadata": {},
   "outputs": [],
   "source": [
    "## First I'm going to create a number of lists to store the data that I need including the latitude, longitude, temperature\n",
    "## humidity, cloudiness, and wind speed\n",
    "cityName = []\n",
    "latitude = []\n",
    "longitude = []\n",
    "temperature = []\n",
    "humidity = []\n",
    "cloudiness = []\n",
    "windSpeed = []\n"
   ]
  },
  {
   "cell_type": "code",
   "execution_count": 7,
   "metadata": {},
   "outputs": [],
   "source": [
    "## Defining variables for API call loop\n",
    "url = \"https://api.openweathermap.org/data/2.5/weather?q=\"\n",
    "apiKEY = weather_api_key"
   ]
  },
  {
   "cell_type": "code",
   "execution_count": 8,
   "metadata": {
    "scrolled": true
   },
   "outputs": [
    {
     "name": "stdout",
     "output_type": "stream",
     "text": [
      "Processing for city: anadyr\n",
      "Processing for city: kapaa\n",
      "Processing for city: new norfolk\n",
      "Processing for city: calabozo\n",
      "Processing for city: san pedro\n",
      "Processing for city: nizhneyansk\n",
      "There is no data for nizhneyansk. Moving to next city.\n",
      "Processing for city: salalah\n",
      "Processing for city: albany\n",
      "Processing for city: shache\n",
      "Processing for city: sentyabrskiy\n",
      "There is no data for sentyabrskiy. Moving to next city.\n",
      "Processing for city: vaini\n",
      "Processing for city: tasiilaq\n",
      "Processing for city: illoqqortoormiut\n",
      "There is no data for illoqqortoormiut. Moving to next city.\n",
      "Processing for city: victoria\n",
      "Processing for city: kodiak\n",
      "Processing for city: tikhvin\n",
      "Processing for city: san jose\n",
      "Processing for city: istisu\n",
      "Processing for city: hithadhoo\n",
      "Processing for city: haimen\n",
      "Processing for city: henties bay\n",
      "Processing for city: hermanus\n",
      "Processing for city: chokurdakh\n",
      "Processing for city: hobyo\n",
      "Processing for city: puerto quijarro\n",
      "Processing for city: bubaque\n",
      "Processing for city: busselton\n",
      "Processing for city: khatanga\n",
      "Processing for city: margate\n",
      "Processing for city: glace bay\n",
      "Processing for city: ribeira grande\n",
      "Processing for city: portree\n",
      "Processing for city: codrington\n",
      "Processing for city: wahpeton\n",
      "Processing for city: nouadhibou\n",
      "Processing for city: clyde river\n",
      "Processing for city: nome\n",
      "Processing for city: muisne\n",
      "Processing for city: kavieng\n",
      "Processing for city: mar del plata\n",
      "Processing for city: nueva helvecia\n",
      "Processing for city: taolanaro\n",
      "There is no data for taolanaro. Moving to next city.\n",
      "Processing for city: punta arenas\n",
      "Processing for city: hofn\n",
      "Processing for city: pithiviers\n",
      "Processing for city: shahrud\n",
      "Processing for city: poso\n",
      "Processing for city: kawalu\n",
      "Processing for city: atuona\n",
      "Processing for city: sergeyevka\n",
      "Processing for city: tuktoyaktuk\n",
      "Processing for city: severo-kurilsk\n",
      "Processing for city: beringovskiy\n",
      "Processing for city: alim\n",
      "Processing for city: lamesa\n",
      "Processing for city: toribio\n",
      "Processing for city: lebu\n",
      "Processing for city: dikson\n",
      "Processing for city: kamenskoye\n",
      "There is no data for kamenskoye. Moving to next city.\n",
      "Processing for city: bredasdorp\n",
      "Processing for city: cherskiy\n",
      "Processing for city: barrow\n",
      "Processing for city: pisco\n",
      "Processing for city: jamestown\n",
      "Processing for city: vaitupu\n",
      "There is no data for vaitupu. Moving to next city.\n",
      "Processing for city: bengkulu\n",
      "Processing for city: ancud\n",
      "Processing for city: ewa beach\n",
      "Processing for city: te anau\n",
      "Processing for city: vaitape\n",
      "Processing for city: verkhnevilyuysk\n",
      "Processing for city: mataura\n",
      "Processing for city: iqaluit\n",
      "Processing for city: gorontalo\n",
      "Processing for city: arraial do cabo\n",
      "Processing for city: hobart\n",
      "Processing for city: bluff\n",
      "Processing for city: ushuaia\n",
      "Processing for city: leningradskiy\n",
      "Processing for city: rikitea\n",
      "Processing for city: klaksvik\n",
      "Processing for city: chicama\n",
      "Processing for city: mikhaylovka\n",
      "Processing for city: torbay\n",
      "Processing for city: novyy urgal\n",
      "Processing for city: cape town\n",
      "Processing for city: hilo\n",
      "Processing for city: talas\n",
      "Processing for city: la ronge\n",
      "Processing for city: goderich\n",
      "Processing for city: tsihombe\n",
      "There is no data for tsihombe. Moving to next city.\n",
      "Processing for city: port alfred\n",
      "Processing for city: falealupo\n",
      "There is no data for falealupo. Moving to next city.\n",
      "Processing for city: carbonia\n",
      "Processing for city: saint-philippe\n",
      "Processing for city: ahipara\n",
      "Processing for city: matamoros\n",
      "Processing for city: umzimvubu\n",
      "There is no data for umzimvubu. Moving to next city.\n",
      "Processing for city: taicheng\n",
      "Processing for city: mount isa\n",
      "Processing for city: berbera\n",
      "Processing for city: avarua\n",
      "Processing for city: katsuura\n",
      "Processing for city: east london\n",
      "Processing for city: pangody\n",
      "Processing for city: togur\n",
      "Processing for city: belushya guba\n",
      "There is no data for belushya guba. Moving to next city.\n",
      "Processing for city: georgetown\n",
      "Processing for city: lagoa\n",
      "Processing for city: saleaula\n",
      "There is no data for saleaula. Moving to next city.\n",
      "Processing for city: carnarvon\n",
      "Processing for city: samusu\n",
      "There is no data for samusu. Moving to next city.\n",
      "Processing for city: qaanaaq\n",
      "Processing for city: puerto ayora\n",
      "Processing for city: miri\n",
      "Processing for city: ostrovnoy\n",
      "Processing for city: hunza\n",
      "There is no data for hunza. Moving to next city.\n",
      "Processing for city: coihaique\n",
      "Processing for city: mys shmidta\n",
      "There is no data for mys shmidta. Moving to next city.\n",
      "Processing for city: popondetta\n",
      "Processing for city: kirakira\n",
      "Processing for city: yar-sale\n",
      "Processing for city: bethel\n",
      "Processing for city: amethi\n",
      "Processing for city: provideniya\n",
      "Processing for city: tiarei\n",
      "Processing for city: komsomolskiy\n",
      "Processing for city: vardo\n",
      "Processing for city: geraldton\n",
      "Processing for city: longford\n",
      "Processing for city: richards bay\n",
      "Processing for city: thompson\n",
      "Processing for city: pangoa\n",
      "Processing for city: artyk\n",
      "There is no data for artyk. Moving to next city.\n",
      "Processing for city: namatanai\n",
      "Processing for city: nemuro\n",
      "Processing for city: lolua\n",
      "There is no data for lolua. Moving to next city.\n",
      "Processing for city: harper\n",
      "Processing for city: airai\n",
      "Processing for city: houma\n",
      "Processing for city: zhezkazgan\n",
      "Processing for city: sitka\n",
      "Processing for city: halalo\n",
      "There is no data for halalo. Moving to next city.\n",
      "Processing for city: kuche\n",
      "There is no data for kuche. Moving to next city.\n",
      "Processing for city: samarai\n",
      "Processing for city: matay\n",
      "Processing for city: talara\n",
      "Processing for city: chuy\n",
      "Processing for city: corinto\n",
      "Processing for city: dingle\n",
      "Processing for city: cap malheureux\n",
      "Processing for city: palabuhanratu\n",
      "There is no data for palabuhanratu. Moving to next city.\n",
      "Processing for city: fukue\n",
      "Processing for city: roebourne\n",
      "Processing for city: venado tuerto\n",
      "Processing for city: olbia\n",
      "Processing for city: kahului\n",
      "Processing for city: ransang\n",
      "Processing for city: cairns\n",
      "Processing for city: pevek\n",
      "Processing for city: astana\n",
      "Processing for city: bend\n",
      "Processing for city: sur\n",
      "Processing for city: palu\n",
      "Processing for city: saskylakh\n",
      "Processing for city: tiksi\n",
      "Processing for city: sarangani\n",
      "Processing for city: quatre cocos\n",
      "Processing for city: kasongo\n",
      "Processing for city: camopi\n",
      "Processing for city: isangel\n",
      "Processing for city: zhenjiang\n",
      "Processing for city: porto novo\n",
      "Processing for city: khandbari\n",
      "Processing for city: neiafu\n",
      "Processing for city: bargal\n",
      "There is no data for bargal. Moving to next city.\n",
      "Processing for city: zhengjiatun\n",
      "Processing for city: wahran\n",
      "There is no data for wahran. Moving to next city.\n",
      "Processing for city: glubokoe\n",
      "There is no data for glubokoe. Moving to next city.\n",
      "Processing for city: amderma\n",
      "There is no data for amderma. Moving to next city.\n",
      "Processing for city: bambous virieux\n",
      "Processing for city: sao felix do xingu\n",
      "Processing for city: alyangula\n",
      "Processing for city: san andres\n",
      "Processing for city: flinders\n",
      "Processing for city: rawlins\n",
      "Processing for city: kinshasa\n",
      "Processing for city: pontianak\n",
      "Processing for city: hanko\n",
      "Processing for city: labutta\n",
      "There is no data for labutta. Moving to next city.\n",
      "Processing for city: san carlos de bariloche\n",
      "Processing for city: athabasca\n",
      "Processing for city: borovoy\n",
      "Processing for city: verkhovazhye\n",
      "Processing for city: teahupoo\n",
      "Processing for city: yellowknife\n",
      "Processing for city: kaeo\n",
      "Processing for city: grindavik\n",
      "Processing for city: cidreira\n",
      "Processing for city: saint-augustin\n",
      "Processing for city: krasnoselkup\n",
      "Processing for city: paamiut\n",
      "Processing for city: mullaitivu\n",
      "There is no data for mullaitivu. Moving to next city.\n",
      "Processing for city: port lincoln\n",
      "Processing for city: abonnema\n",
      "Processing for city: hamilton\n",
      "Processing for city: viligili\n",
      "There is no data for viligili. Moving to next city.\n",
      "Processing for city: mumbwa\n",
      "Processing for city: batemans bay\n",
      "Processing for city: baiquan\n",
      "Processing for city: kruisfontein\n",
      "Processing for city: port elizabeth\n",
      "Processing for city: udachnyy\n",
      "Processing for city: port macquarie\n",
      "Processing for city: makakilo city\n",
      "Processing for city: pingliang\n",
      "Processing for city: mehamn\n",
      "Processing for city: arusha\n",
      "Processing for city: upernavik\n",
      "Processing for city: saldanha\n",
      "Processing for city: asau\n",
      "Processing for city: nikolskoye\n",
      "Processing for city: bilibino\n",
      "Processing for city: novoagansk\n",
      "Processing for city: tumannyy\n",
      "There is no data for tumannyy. Moving to next city.\n",
      "Processing for city: tura\n"
     ]
    },
    {
     "name": "stdout",
     "output_type": "stream",
     "text": [
      "Processing for city: khuzhir\n",
      "Processing for city: kassala\n",
      "Processing for city: narsaq\n",
      "Processing for city: balabac\n",
      "Processing for city: lipin bor\n",
      "Processing for city: sept-iles\n",
      "Processing for city: norman wells\n",
      "Processing for city: talnakh\n",
      "Processing for city: svay rieng\n",
      "Processing for city: balkhash\n",
      "Processing for city: kemin\n",
      "Processing for city: vuktyl\n",
      "Processing for city: urambo\n",
      "Processing for city: rungata\n",
      "There is no data for rungata. Moving to next city.\n",
      "Processing for city: serenje\n",
      "Processing for city: marawi\n",
      "Processing for city: meulaboh\n",
      "Processing for city: mumford\n",
      "Processing for city: senica\n",
      "Processing for city: stornoway\n",
      "Processing for city: tolaga bay\n",
      "Processing for city: butaritari\n",
      "Processing for city: alofi\n",
      "Processing for city: yanan\n",
      "There is no data for yanan. Moving to next city.\n",
      "Processing for city: castro\n",
      "Processing for city: hovd\n",
      "Processing for city: rio grande\n",
      "Processing for city: aklavik\n",
      "Processing for city: santo domingo\n",
      "Processing for city: high prairie\n",
      "Processing for city: grand river south east\n",
      "There is no data for grand river south east. Moving to next city.\n",
      "Processing for city: minab\n",
      "Processing for city: bolungarvik\n",
      "There is no data for bolungarvik. Moving to next city.\n",
      "Processing for city: sarakhs\n",
      "Processing for city: llanes\n",
      "Processing for city: at-bashi\n",
      "Processing for city: aquiraz\n",
      "Processing for city: faanui\n",
      "Processing for city: lancaster\n",
      "Processing for city: paka\n",
      "Processing for city: guerrero negro\n",
      "Processing for city: esperance\n",
      "Processing for city: sao jose da coroa grande\n",
      "Processing for city: zhanaozen\n",
      "Processing for city: baisha\n",
      "Processing for city: port arthur\n",
      "Processing for city: tuatapere\n",
      "Processing for city: evensk\n",
      "Processing for city: chapais\n",
      "Processing for city: beyneu\n",
      "Processing for city: parrita\n",
      "Processing for city: helena\n",
      "Processing for city: wanaka\n",
      "Processing for city: manicore\n",
      "Processing for city: mahebourg\n",
      "Processing for city: zhanakorgan\n",
      "Processing for city: port hardy\n",
      "Processing for city: bukachacha\n",
      "Processing for city: tezu\n",
      "Processing for city: bowen\n",
      "Processing for city: thinadhoo\n",
      "Processing for city: karratha\n",
      "Processing for city: sinnamary\n",
      "Processing for city: sumbal\n",
      "Processing for city: adrar\n",
      "Processing for city: tabiauea\n",
      "There is no data for tabiauea. Moving to next city.\n",
      "Processing for city: valreas\n",
      "Processing for city: lata\n",
      "Processing for city: olafsvik\n",
      "Processing for city: bauta\n",
      "Processing for city: skibbereen\n",
      "Processing for city: alice springs\n",
      "Processing for city: peniche\n",
      "Processing for city: srednekolymsk\n",
      "Processing for city: pachmarhi\n",
      "Processing for city: yarke pole\n",
      "Processing for city: saint george\n",
      "Processing for city: razdolinsk\n",
      "Processing for city: aksarka\n",
      "Processing for city: bud\n",
      "Processing for city: riachao das neves\n",
      "Processing for city: cabo san lucas\n",
      "Processing for city: vallenar\n",
      "Processing for city: kaoma\n",
      "Processing for city: longyearbyen\n",
      "Processing for city: sovetskaya gavan\n",
      "Processing for city: taraz\n",
      "Processing for city: saint-joseph\n",
      "Processing for city: bukama\n",
      "Processing for city: borogontsy\n",
      "Processing for city: turukhansk\n",
      "Processing for city: katherine\n",
      "Processing for city: tucuma\n",
      "Processing for city: oeiras\n",
      "Processing for city: constitucion\n",
      "Processing for city: moyale\n",
      "Processing for city: tocache\n",
      "Processing for city: hasaki\n",
      "Processing for city: vostok\n",
      "Processing for city: ust-nera\n",
      "Processing for city: santa rosa\n",
      "Processing for city: douentza\n",
      "Processing for city: lalpur\n",
      "Processing for city: sevilla\n",
      "Processing for city: golden rock\n",
      "There is no data for golden rock. Moving to next city.\n",
      "Processing for city: roald\n",
      "Processing for city: copperas cove\n",
      "Processing for city: nago\n",
      "Processing for city: ngunguru\n",
      "Processing for city: fiumicino\n",
      "Processing for city: kearney\n",
      "Processing for city: kemijarvi\n",
      "Processing for city: boma\n",
      "Processing for city: gat\n",
      "Processing for city: krasnoarmeysk\n",
      "Processing for city: svetlogorsk\n",
      "Processing for city: scarborough\n",
      "Processing for city: barentsburg\n",
      "There is no data for barentsburg. Moving to next city.\n",
      "Processing for city: najran\n",
      "Processing for city: barbar\n",
      "There is no data for barbar. Moving to next city.\n",
      "Processing for city: tarudant\n",
      "There is no data for tarudant. Moving to next city.\n",
      "Processing for city: nevel\n",
      "Processing for city: hirara\n",
      "Processing for city: ampanihy\n",
      "Processing for city: chateaubelair\n",
      "Processing for city: tairua\n",
      "Processing for city: namibe\n",
      "Processing for city: ukiah\n",
      "Processing for city: lavrentiya\n",
      "Processing for city: urumqi\n",
      "Processing for city: bainbridge\n",
      "Processing for city: quelimane\n",
      "Processing for city: dwarka\n",
      "Processing for city: carnaiba\n",
      "Processing for city: nyurba\n",
      "Processing for city: price\n",
      "Processing for city: kinablangan\n",
      "Processing for city: attawapiskat\n",
      "There is no data for attawapiskat. Moving to next city.\n",
      "Processing for city: port-gentil\n",
      "Processing for city: sokoto\n",
      "Processing for city: yulara\n",
      "Processing for city: takoradi\n",
      "Processing for city: crewe\n",
      "Processing for city: manta\n",
      "Processing for city: rio gallegos\n",
      "Processing for city: bur gabo\n",
      "There is no data for bur gabo. Moving to next city.\n",
      "Processing for city: zilupe\n",
      "Processing for city: lasa\n",
      "Processing for city: port pirie\n",
      "Processing for city: senanga\n",
      "Processing for city: muroto\n",
      "Processing for city: kitimat\n",
      "Processing for city: taoudenni\n",
      "Processing for city: morro bay\n",
      "Processing for city: gisborne\n",
      "Processing for city: miramar\n",
      "Processing for city: sao filipe\n",
      "Processing for city: puerto escondido\n",
      "Processing for city: alta floresta\n",
      "Processing for city: jais\n",
      "Processing for city: ust-koksa\n",
      "Processing for city: okhotsk\n",
      "Processing for city: toronto\n",
      "Processing for city: payo\n",
      "Processing for city: souillac\n",
      "Processing for city: pak phanang\n",
      "Processing for city: kabwe\n",
      "Processing for city: chum phae\n",
      "Processing for city: taltal\n",
      "Processing for city: noumea\n",
      "Processing for city: tymovskoye\n",
      "Processing for city: basco\n",
      "Processing for city: andreapol\n",
      "Processing for city: kaitangata\n",
      "Processing for city: verkhnyaya inta\n",
      "Processing for city: faya\n",
      "Processing for city: sambava\n",
      "Processing for city: itabuna\n",
      "Processing for city: cacapava do sul\n",
      "Processing for city: camden\n",
      "Processing for city: fort nelson\n",
      "Processing for city: trairi\n",
      "Processing for city: oktyabrskoye\n",
      "Processing for city: saint-pierre\n",
      "Processing for city: sabae\n",
      "Processing for city: tual\n",
      "Processing for city: korla\n",
      "Processing for city: chagda\n",
      "There is no data for chagda. Moving to next city.\n",
      "Processing for city: echt\n",
      "Processing for city: atbasar\n",
      "Processing for city: pacific grove\n",
      "Processing for city: lompoc\n",
      "Processing for city: tsabong\n",
      "Processing for city: baruun-urt\n",
      "Processing for city: waipawa\n",
      "Processing for city: valparaiso\n",
      "Processing for city: cervo\n",
      "Processing for city: ketchikan\n",
      "Processing for city: zhigansk\n",
      "Processing for city: gigmoto\n",
      "Processing for city: broome\n",
      "Processing for city: libertador general san martin\n",
      "Processing for city: halifax\n",
      "Processing for city: luderitz\n",
      "Processing for city: hay river\n",
      "Processing for city: ust-ishim\n",
      "Processing for city: affery\n",
      "Processing for city: sao gabriel da cachoeira\n",
      "Processing for city: benguela\n",
      "Processing for city: tazovskiy\n",
      "Processing for city: nipawin\n",
      "Processing for city: port blair\n",
      "Processing for city: san rafael\n",
      "Processing for city: inuvik\n",
      "Processing for city: nykobing\n",
      "There is no data for nykobing. Moving to next city.\n",
      "Processing for city: sheridan\n",
      "Processing for city: fortuna\n",
      "Processing for city: marsh harbour\n",
      "Processing for city: coos bay\n",
      "Processing for city: la rioja\n",
      "Processing for city: obihiro\n",
      "Processing for city: kavaratti\n",
      "Processing for city: turinskaya sloboda\n",
      "Processing for city: jalingo\n",
      "Processing for city: newport\n",
      "Processing for city: priiskovyy\n",
      "Processing for city: ponta do sol\n",
      "Processing for city: mangochi\n",
      "Processing for city: touros\n",
      "Processing for city: longlac\n",
      "There is no data for longlac. Moving to next city.\n",
      "Processing for city: weihai\n",
      "Processing for city: praia da vitoria\n",
      "Processing for city: doka\n",
      "Processing for city: krasnaya gora\n",
      "Processing for city: port-cartier\n",
      "Processing for city: inhambane\n",
      "Processing for city: manbij\n",
      "Processing for city: kamoke\n",
      "Processing for city: yalutorovsk\n",
      "Processing for city: pochutla\n",
      "Processing for city: worland\n",
      "Processing for city: ijaki\n",
      "There is no data for ijaki. Moving to next city.\n",
      "Processing for city: mana\n",
      "Processing for city: alekseyevsk\n"
     ]
    },
    {
     "name": "stdout",
     "output_type": "stream",
     "text": [
      "Processing for city: kapustin yar-1\n",
      "There is no data for kapustin yar-1. Moving to next city.\n",
      "Processing for city: puerto el triunfo\n",
      "Processing for city: temaraia\n",
      "There is no data for temaraia. Moving to next city.\n",
      "Processing for city: san ramon de la nueva oran\n",
      "Processing for city: dakar\n",
      "Processing for city: omis\n",
      "Processing for city: belyy yar\n",
      "Processing for city: cajamarca\n",
      "Processing for city: shellbrook\n",
      "Processing for city: marquette\n",
      "Processing for city: narrabri\n",
      "Processing for city: nador\n",
      "Processing for city: tevriz\n",
      "Processing for city: pacifica\n",
      "Processing for city: san lazaro\n",
      "Processing for city: solovetskiy\n",
      "There is no data for solovetskiy. Moving to next city.\n",
      "Processing for city: kieta\n",
      "Processing for city: ocos\n",
      "Processing for city: itaqui\n",
      "Processing for city: aqtobe\n",
      "Processing for city: caravelas\n",
      "Processing for city: coquimbo\n",
      "Processing for city: mikkeli\n",
      "Processing for city: pimentel\n",
      "Processing for city: xai-xai\n",
      "Processing for city: worcester\n",
      "Processing for city: petropavlovsk-kamchatskiy\n",
      "Processing for city: sao miguel do araguaia\n",
      "Processing for city: merauke\n",
      "Processing for city: ouricuri\n",
      "Processing for city: kununurra\n",
      "Processing for city: tilichiki\n",
      "Processing for city: blagoyevo\n",
      "Processing for city: oistins\n",
      "Processing for city: kupang\n",
      "Processing for city: quartucciu\n",
      "Processing for city: vila velha\n",
      "Processing for city: westport\n",
      "Processing for city: ixtapa\n",
      "Processing for city: labuhan\n",
      "Processing for city: kuldiga\n",
      "Processing for city: deputatskiy\n",
      "Processing for city: candido de abreu\n",
      "Processing for city: salgar\n",
      "Processing for city: zlocieniec\n",
      "Processing for city: nanortalik\n",
      "Processing for city: kumi\n",
      "Processing for city: camacari\n",
      "Processing for city: marzuq\n",
      "Processing for city: clarence town\n",
      "Processing for city: gamba\n",
      "Processing for city: tukrah\n",
      "Processing for city: hudson bay\n",
      "Processing for city: chalmette\n",
      "Processing for city: labrea\n",
      "Processing for city: xuanhua\n",
      "Processing for city: knyaze-volkonskoye\n",
      "Processing for city: antalaha\n",
      "Processing for city: novorudnyy\n",
      "Processing for city: necochea\n",
      "Processing for city: izumo\n",
      "Processing for city: forbes\n",
      "Processing for city: buala\n",
      "Processing for city: santa isabel\n",
      "Processing for city: sabang\n",
      "Processing for city: nishihara\n",
      "Processing for city: lena\n",
      "Processing for city: qurbah\n",
      "There is no data for qurbah. Moving to next city.\n",
      "Processing for city: mahanoro\n",
      "Processing for city: gaoua\n",
      "Processing for city: pitimbu\n",
      "Processing for city: sterling\n",
      "Processing for city: san quintin\n",
      "Processing for city: pangai\n",
      "Processing for city: sayyan\n",
      "Processing for city: bontang\n",
      "Processing for city: ponta delgada\n",
      "Processing for city: pemberton\n",
      "Processing for city: cayenne\n",
      "Processing for city: mecca\n",
      "Processing for city: trat\n",
      "Processing for city: yueyang\n",
      "Processing for city: aketi\n",
      "Processing for city: mitsamiouli\n",
      "Processing for city: egvekinot\n",
      "Processing for city: guanare\n",
      "Processing for city: milledgeville\n",
      "Processing for city: batagay-alyta\n",
      "Processing for city: naze\n",
      "Processing for city: monrovia\n",
      "Processing for city: burica\n",
      "There is no data for burica. Moving to next city.\n",
      "Processing for city: havoysund\n",
      "Processing for city: riberalta\n",
      "Processing for city: sulangan\n",
      "Processing for city: vagur\n",
      "Processing for city: tirumullaivasal\n",
      "Processing for city: colorado springs\n",
      "Processing for city: bonthe\n",
      "Processing for city: rawson\n",
      "Processing for city: zhangye\n",
      "Processing for city: moose jaw\n",
      "Processing for city: san angelo\n",
      "Processing for city: sao joao da barra\n",
      "Processing for city: vigrestad\n",
      "Processing for city: toktogul\n",
      "Processing for city: muros\n",
      "Processing for city: damaturu\n",
      "Processing for city: waounde\n",
      "Processing for city: puerto del rosario\n",
      "Processing for city: tornio\n",
      "Processing for city: zhaoyuan\n",
      "Processing for city: port hedland\n",
      "Processing for city: mustasaari\n",
      "Processing for city: omboue\n",
      "Processing for city: tessalit\n",
      "Processing for city: guicheng\n",
      "There is no data for guicheng. Moving to next city.\n",
      "Processing for city: susanville\n",
      "Processing for city: inirida\n",
      "Processing for city: qaqortoq\n",
      "Processing for city: avera\n",
      "Processing for city: nelson bay\n",
      "Processing for city: yuxia\n",
      "Processing for city: mocuba\n",
      "Processing for city: palmer\n",
      "Processing for city: san francisco del mar\n",
      "Processing for city: san cristobal\n",
      "Processing for city: bartica\n",
      "Processing for city: poronaysk\n",
      "Processing for city: fuerte olimpo\n",
      "Processing for city: ilulissat\n",
      "Processing for city: pierre\n",
      "Processing for city: vao\n",
      "Processing for city: kedrovyy\n",
      "Processing for city: gobabis\n",
      "Processing for city: bourail\n",
      "Processing for city: praid\n",
      "Processing for city: teknaf\n",
      "Processing for city: arlit\n",
      "Processing for city: sataua\n",
      "There is no data for sataua. Moving to next city.\n",
      "Processing for city: belvedere marittimo\n",
      "Processing for city: igarka\n",
      "Processing for city: terracina\n",
      "Processing for city: plouzane\n",
      "Processing for city: pasni\n"
     ]
    }
   ],
   "source": [
    "## Here I'm using a for loop to do an API call for each city in my list.\n",
    "for city in cities:\n",
    "    print(f'Processing for city: {city}')\n",
    "    responseJSON = requests.get(url + city + \"&appid=\" + apiKEY).json()\n",
    "    ## This if is to check, just in case, that a city hasn't been chosen twice\n",
    "    if city not in cityName:\n",
    "        ## Now we do a try here to make sure these work\n",
    "        try:\n",
    "            ## This loop goes through the response and grabs all the details I need and appends them to the lists I made earlier.\n",
    "            ## This way all the cities and their respective data have the same index in the lists\n",
    "            ## So when we make the dataframe later, the \n",
    "            latitude.append(responseJSON[\"coord\"][\"lat\"])\n",
    "            longitude.append(responseJSON[\"coord\"][\"lon\"])\n",
    "            temperature.append(responseJSON[\"main\"][\"temp\"])\n",
    "            humidity.append(responseJSON[\"main\"][\"humidity\"])\n",
    "            cloudiness.append(responseJSON[\"clouds\"][\"all\"])\n",
    "            windSpeed.append(responseJSON[\"wind\"][\"speed\"])\n",
    "            cityName.append(city)\n",
    "        ## If any of them have no data, we ignore it and move to the next one. This stops from needing to drop NaNs later.\n",
    "        except:\n",
    "            print(f'There is no data for {city}. Moving to next city.')\n",
    "    ## If the city is already in the cityName list, it returns that the city has already been added and will move to the next one\n",
    "    else:\n",
    "        print(f'{city} has already been processed. Moving to next city.')"
   ]
  },
  {
   "cell_type": "markdown",
   "metadata": {},
   "source": [
    "### Convert Raw Data to DataFrame\n",
    "* Export the city data into a .csv.\n",
    "* Display the DataFrame"
   ]
  },
  {
   "cell_type": "code",
   "execution_count": 9,
   "metadata": {},
   "outputs": [
    {
     "data": {
      "text/html": [
       "<div>\n",
       "<style scoped>\n",
       "    .dataframe tbody tr th:only-of-type {\n",
       "        vertical-align: middle;\n",
       "    }\n",
       "\n",
       "    .dataframe tbody tr th {\n",
       "        vertical-align: top;\n",
       "    }\n",
       "\n",
       "    .dataframe thead th {\n",
       "        text-align: right;\n",
       "    }\n",
       "</style>\n",
       "<table border=\"1\" class=\"dataframe\">\n",
       "  <thead>\n",
       "    <tr style=\"text-align: right;\">\n",
       "      <th></th>\n",
       "      <th>City</th>\n",
       "      <th>Lat</th>\n",
       "      <th>Lng</th>\n",
       "      <th>Temp</th>\n",
       "      <th>Humidity</th>\n",
       "      <th>Cloudiness</th>\n",
       "      <th>Wind Speed</th>\n",
       "    </tr>\n",
       "  </thead>\n",
       "  <tbody>\n",
       "    <tr>\n",
       "      <th>0</th>\n",
       "      <td>anadyr</td>\n",
       "      <td>64.7500</td>\n",
       "      <td>177.4833</td>\n",
       "      <td>286.43</td>\n",
       "      <td>88</td>\n",
       "      <td>75</td>\n",
       "      <td>4.00</td>\n",
       "    </tr>\n",
       "    <tr>\n",
       "      <th>1</th>\n",
       "      <td>kapaa</td>\n",
       "      <td>22.0752</td>\n",
       "      <td>-159.3190</td>\n",
       "      <td>296.49</td>\n",
       "      <td>81</td>\n",
       "      <td>75</td>\n",
       "      <td>5.14</td>\n",
       "    </tr>\n",
       "    <tr>\n",
       "      <th>2</th>\n",
       "      <td>new norfolk</td>\n",
       "      <td>-42.7826</td>\n",
       "      <td>147.0587</td>\n",
       "      <td>286.03</td>\n",
       "      <td>56</td>\n",
       "      <td>100</td>\n",
       "      <td>2.24</td>\n",
       "    </tr>\n",
       "    <tr>\n",
       "      <th>3</th>\n",
       "      <td>calabozo</td>\n",
       "      <td>8.9242</td>\n",
       "      <td>-67.4293</td>\n",
       "      <td>301.48</td>\n",
       "      <td>71</td>\n",
       "      <td>48</td>\n",
       "      <td>2.18</td>\n",
       "    </tr>\n",
       "    <tr>\n",
       "      <th>4</th>\n",
       "      <td>san pedro</td>\n",
       "      <td>14.3500</td>\n",
       "      <td>121.0167</td>\n",
       "      <td>299.41</td>\n",
       "      <td>93</td>\n",
       "      <td>90</td>\n",
       "      <td>7.20</td>\n",
       "    </tr>\n",
       "    <tr>\n",
       "      <th>...</th>\n",
       "      <td>...</td>\n",
       "      <td>...</td>\n",
       "      <td>...</td>\n",
       "      <td>...</td>\n",
       "      <td>...</td>\n",
       "      <td>...</td>\n",
       "      <td>...</td>\n",
       "    </tr>\n",
       "    <tr>\n",
       "      <th>560</th>\n",
       "      <td>belvedere marittimo</td>\n",
       "      <td>39.6179</td>\n",
       "      <td>15.8617</td>\n",
       "      <td>314.33</td>\n",
       "      <td>45</td>\n",
       "      <td>2</td>\n",
       "      <td>0.39</td>\n",
       "    </tr>\n",
       "    <tr>\n",
       "      <th>561</th>\n",
       "      <td>igarka</td>\n",
       "      <td>67.4667</td>\n",
       "      <td>86.5833</td>\n",
       "      <td>293.27</td>\n",
       "      <td>87</td>\n",
       "      <td>100</td>\n",
       "      <td>5.01</td>\n",
       "    </tr>\n",
       "    <tr>\n",
       "      <th>562</th>\n",
       "      <td>terracina</td>\n",
       "      <td>41.2863</td>\n",
       "      <td>13.2217</td>\n",
       "      <td>305.12</td>\n",
       "      <td>56</td>\n",
       "      <td>75</td>\n",
       "      <td>2.77</td>\n",
       "    </tr>\n",
       "    <tr>\n",
       "      <th>563</th>\n",
       "      <td>plouzane</td>\n",
       "      <td>48.3833</td>\n",
       "      <td>-4.6167</td>\n",
       "      <td>293.10</td>\n",
       "      <td>70</td>\n",
       "      <td>75</td>\n",
       "      <td>5.66</td>\n",
       "    </tr>\n",
       "    <tr>\n",
       "      <th>564</th>\n",
       "      <td>pasni</td>\n",
       "      <td>25.2631</td>\n",
       "      <td>63.4710</td>\n",
       "      <td>301.16</td>\n",
       "      <td>86</td>\n",
       "      <td>100</td>\n",
       "      <td>4.76</td>\n",
       "    </tr>\n",
       "  </tbody>\n",
       "</table>\n",
       "<p>565 rows × 7 columns</p>\n",
       "</div>"
      ],
      "text/plain": [
       "                    City      Lat       Lng    Temp  Humidity  Cloudiness  \\\n",
       "0                 anadyr  64.7500  177.4833  286.43        88          75   \n",
       "1                  kapaa  22.0752 -159.3190  296.49        81          75   \n",
       "2            new norfolk -42.7826  147.0587  286.03        56         100   \n",
       "3               calabozo   8.9242  -67.4293  301.48        71          48   \n",
       "4              san pedro  14.3500  121.0167  299.41        93          90   \n",
       "..                   ...      ...       ...     ...       ...         ...   \n",
       "560  belvedere marittimo  39.6179   15.8617  314.33        45           2   \n",
       "561               igarka  67.4667   86.5833  293.27        87         100   \n",
       "562            terracina  41.2863   13.2217  305.12        56          75   \n",
       "563             plouzane  48.3833   -4.6167  293.10        70          75   \n",
       "564                pasni  25.2631   63.4710  301.16        86         100   \n",
       "\n",
       "     Wind Speed  \n",
       "0          4.00  \n",
       "1          5.14  \n",
       "2          2.24  \n",
       "3          2.18  \n",
       "4          7.20  \n",
       "..          ...  \n",
       "560        0.39  \n",
       "561        5.01  \n",
       "562        2.77  \n",
       "563        5.66  \n",
       "564        4.76  \n",
       "\n",
       "[565 rows x 7 columns]"
      ]
     },
     "execution_count": 9,
     "metadata": {},
     "output_type": "execute_result"
    }
   ],
   "source": [
    "## Using the lists I made to create\n",
    "citiesDF = pd.DataFrame({\"City\" : cityName, \n",
    "                         \"Lat\" : latitude, \n",
    "                         \"Lng\" : longitude, \n",
    "                         \"Temp\" : temperature, \n",
    "                         \"Humidity\" : humidity, \n",
    "                         \"Cloudiness\" : cloudiness,\n",
    "                         \"Wind Speed\" : windSpeed})\n",
    "citiesDF"
   ]
  },
  {
   "cell_type": "code",
   "execution_count": 10,
   "metadata": {},
   "outputs": [
    {
     "data": {
      "text/html": [
       "<div>\n",
       "<style scoped>\n",
       "    .dataframe tbody tr th:only-of-type {\n",
       "        vertical-align: middle;\n",
       "    }\n",
       "\n",
       "    .dataframe tbody tr th {\n",
       "        vertical-align: top;\n",
       "    }\n",
       "\n",
       "    .dataframe thead th {\n",
       "        text-align: right;\n",
       "    }\n",
       "</style>\n",
       "<table border=\"1\" class=\"dataframe\">\n",
       "  <thead>\n",
       "    <tr style=\"text-align: right;\">\n",
       "      <th></th>\n",
       "      <th>Lat</th>\n",
       "      <th>Lng</th>\n",
       "      <th>Temp</th>\n",
       "      <th>Humidity</th>\n",
       "      <th>Cloudiness</th>\n",
       "      <th>Wind Speed</th>\n",
       "    </tr>\n",
       "  </thead>\n",
       "  <tbody>\n",
       "    <tr>\n",
       "      <th>count</th>\n",
       "      <td>565.000000</td>\n",
       "      <td>565.000000</td>\n",
       "      <td>565.000000</td>\n",
       "      <td>565.000000</td>\n",
       "      <td>565.000000</td>\n",
       "      <td>565.000000</td>\n",
       "    </tr>\n",
       "    <tr>\n",
       "      <th>mean</th>\n",
       "      <td>19.929028</td>\n",
       "      <td>18.284470</td>\n",
       "      <td>294.545965</td>\n",
       "      <td>68.196460</td>\n",
       "      <td>57.474336</td>\n",
       "      <td>3.684920</td>\n",
       "    </tr>\n",
       "    <tr>\n",
       "      <th>std</th>\n",
       "      <td>33.713132</td>\n",
       "      <td>92.798921</td>\n",
       "      <td>8.125552</td>\n",
       "      <td>22.214189</td>\n",
       "      <td>38.886106</td>\n",
       "      <td>2.457498</td>\n",
       "    </tr>\n",
       "    <tr>\n",
       "      <th>min</th>\n",
       "      <td>-54.800000</td>\n",
       "      <td>-179.166700</td>\n",
       "      <td>270.010000</td>\n",
       "      <td>4.000000</td>\n",
       "      <td>0.000000</td>\n",
       "      <td>0.000000</td>\n",
       "    </tr>\n",
       "    <tr>\n",
       "      <th>25%</th>\n",
       "      <td>-8.753700</td>\n",
       "      <td>-64.787600</td>\n",
       "      <td>289.060000</td>\n",
       "      <td>56.000000</td>\n",
       "      <td>15.000000</td>\n",
       "      <td>1.820000</td>\n",
       "    </tr>\n",
       "    <tr>\n",
       "      <th>50%</th>\n",
       "      <td>23.193500</td>\n",
       "      <td>23.266700</td>\n",
       "      <td>296.320000</td>\n",
       "      <td>73.000000</td>\n",
       "      <td>75.000000</td>\n",
       "      <td>3.200000</td>\n",
       "    </tr>\n",
       "    <tr>\n",
       "      <th>75%</th>\n",
       "      <td>48.383300</td>\n",
       "      <td>102.500000</td>\n",
       "      <td>300.230000</td>\n",
       "      <td>86.000000</td>\n",
       "      <td>97.000000</td>\n",
       "      <td>5.140000</td>\n",
       "    </tr>\n",
       "    <tr>\n",
       "      <th>max</th>\n",
       "      <td>78.218600</td>\n",
       "      <td>179.316700</td>\n",
       "      <td>319.180000</td>\n",
       "      <td>100.000000</td>\n",
       "      <td>100.000000</td>\n",
       "      <td>13.610000</td>\n",
       "    </tr>\n",
       "  </tbody>\n",
       "</table>\n",
       "</div>"
      ],
      "text/plain": [
       "              Lat         Lng        Temp    Humidity  Cloudiness  Wind Speed\n",
       "count  565.000000  565.000000  565.000000  565.000000  565.000000  565.000000\n",
       "mean    19.929028   18.284470  294.545965   68.196460   57.474336    3.684920\n",
       "std     33.713132   92.798921    8.125552   22.214189   38.886106    2.457498\n",
       "min    -54.800000 -179.166700  270.010000    4.000000    0.000000    0.000000\n",
       "25%     -8.753700  -64.787600  289.060000   56.000000   15.000000    1.820000\n",
       "50%     23.193500   23.266700  296.320000   73.000000   75.000000    3.200000\n",
       "75%     48.383300  102.500000  300.230000   86.000000   97.000000    5.140000\n",
       "max     78.218600  179.316700  319.180000  100.000000  100.000000   13.610000"
      ]
     },
     "execution_count": 10,
     "metadata": {},
     "output_type": "execute_result"
    }
   ],
   "source": [
    "## Getting a summary statistics table. The .describe method makes this super easy to display\n",
    "sumStats = citiesDF.describe()\n",
    "sumStats"
   ]
  },
  {
   "cell_type": "markdown",
   "metadata": {},
   "source": [
    "## Inspect the data and remove the cities where the humidity > 100%.\n",
    "----\n",
    "Skip this step if there are no cities that have humidity > 100%. "
   ]
  },
  {
   "cell_type": "code",
   "execution_count": 11,
   "metadata": {},
   "outputs": [
    {
     "data": {
      "text/html": [
       "<div>\n",
       "<style scoped>\n",
       "    .dataframe tbody tr th:only-of-type {\n",
       "        vertical-align: middle;\n",
       "    }\n",
       "\n",
       "    .dataframe tbody tr th {\n",
       "        vertical-align: top;\n",
       "    }\n",
       "\n",
       "    .dataframe thead th {\n",
       "        text-align: right;\n",
       "    }\n",
       "</style>\n",
       "<table border=\"1\" class=\"dataframe\">\n",
       "  <thead>\n",
       "    <tr style=\"text-align: right;\">\n",
       "      <th></th>\n",
       "      <th>City</th>\n",
       "      <th>Lat</th>\n",
       "      <th>Lng</th>\n",
       "      <th>Temp</th>\n",
       "      <th>Humidity</th>\n",
       "      <th>Cloudiness</th>\n",
       "      <th>Wind Speed</th>\n",
       "    </tr>\n",
       "  </thead>\n",
       "  <tbody>\n",
       "    <tr>\n",
       "      <th>0</th>\n",
       "      <td>anadyr</td>\n",
       "      <td>64.7500</td>\n",
       "      <td>177.4833</td>\n",
       "      <td>286.43</td>\n",
       "      <td>88</td>\n",
       "      <td>75</td>\n",
       "      <td>4.00</td>\n",
       "    </tr>\n",
       "    <tr>\n",
       "      <th>1</th>\n",
       "      <td>kapaa</td>\n",
       "      <td>22.0752</td>\n",
       "      <td>-159.3190</td>\n",
       "      <td>296.49</td>\n",
       "      <td>81</td>\n",
       "      <td>75</td>\n",
       "      <td>5.14</td>\n",
       "    </tr>\n",
       "    <tr>\n",
       "      <th>2</th>\n",
       "      <td>new norfolk</td>\n",
       "      <td>-42.7826</td>\n",
       "      <td>147.0587</td>\n",
       "      <td>286.03</td>\n",
       "      <td>56</td>\n",
       "      <td>100</td>\n",
       "      <td>2.24</td>\n",
       "    </tr>\n",
       "    <tr>\n",
       "      <th>3</th>\n",
       "      <td>calabozo</td>\n",
       "      <td>8.9242</td>\n",
       "      <td>-67.4293</td>\n",
       "      <td>301.48</td>\n",
       "      <td>71</td>\n",
       "      <td>48</td>\n",
       "      <td>2.18</td>\n",
       "    </tr>\n",
       "    <tr>\n",
       "      <th>4</th>\n",
       "      <td>san pedro</td>\n",
       "      <td>14.3500</td>\n",
       "      <td>121.0167</td>\n",
       "      <td>299.41</td>\n",
       "      <td>93</td>\n",
       "      <td>90</td>\n",
       "      <td>7.20</td>\n",
       "    </tr>\n",
       "    <tr>\n",
       "      <th>...</th>\n",
       "      <td>...</td>\n",
       "      <td>...</td>\n",
       "      <td>...</td>\n",
       "      <td>...</td>\n",
       "      <td>...</td>\n",
       "      <td>...</td>\n",
       "      <td>...</td>\n",
       "    </tr>\n",
       "    <tr>\n",
       "      <th>560</th>\n",
       "      <td>belvedere marittimo</td>\n",
       "      <td>39.6179</td>\n",
       "      <td>15.8617</td>\n",
       "      <td>314.33</td>\n",
       "      <td>45</td>\n",
       "      <td>2</td>\n",
       "      <td>0.39</td>\n",
       "    </tr>\n",
       "    <tr>\n",
       "      <th>561</th>\n",
       "      <td>igarka</td>\n",
       "      <td>67.4667</td>\n",
       "      <td>86.5833</td>\n",
       "      <td>293.27</td>\n",
       "      <td>87</td>\n",
       "      <td>100</td>\n",
       "      <td>5.01</td>\n",
       "    </tr>\n",
       "    <tr>\n",
       "      <th>562</th>\n",
       "      <td>terracina</td>\n",
       "      <td>41.2863</td>\n",
       "      <td>13.2217</td>\n",
       "      <td>305.12</td>\n",
       "      <td>56</td>\n",
       "      <td>75</td>\n",
       "      <td>2.77</td>\n",
       "    </tr>\n",
       "    <tr>\n",
       "      <th>563</th>\n",
       "      <td>plouzane</td>\n",
       "      <td>48.3833</td>\n",
       "      <td>-4.6167</td>\n",
       "      <td>293.10</td>\n",
       "      <td>70</td>\n",
       "      <td>75</td>\n",
       "      <td>5.66</td>\n",
       "    </tr>\n",
       "    <tr>\n",
       "      <th>564</th>\n",
       "      <td>pasni</td>\n",
       "      <td>25.2631</td>\n",
       "      <td>63.4710</td>\n",
       "      <td>301.16</td>\n",
       "      <td>86</td>\n",
       "      <td>100</td>\n",
       "      <td>4.76</td>\n",
       "    </tr>\n",
       "  </tbody>\n",
       "</table>\n",
       "<p>565 rows × 7 columns</p>\n",
       "</div>"
      ],
      "text/plain": [
       "                    City      Lat       Lng    Temp  Humidity  Cloudiness  \\\n",
       "0                 anadyr  64.7500  177.4833  286.43        88          75   \n",
       "1                  kapaa  22.0752 -159.3190  296.49        81          75   \n",
       "2            new norfolk -42.7826  147.0587  286.03        56         100   \n",
       "3               calabozo   8.9242  -67.4293  301.48        71          48   \n",
       "4              san pedro  14.3500  121.0167  299.41        93          90   \n",
       "..                   ...      ...       ...     ...       ...         ...   \n",
       "560  belvedere marittimo  39.6179   15.8617  314.33        45           2   \n",
       "561               igarka  67.4667   86.5833  293.27        87         100   \n",
       "562            terracina  41.2863   13.2217  305.12        56          75   \n",
       "563             plouzane  48.3833   -4.6167  293.10        70          75   \n",
       "564                pasni  25.2631   63.4710  301.16        86         100   \n",
       "\n",
       "     Wind Speed  \n",
       "0          4.00  \n",
       "1          5.14  \n",
       "2          2.24  \n",
       "3          2.18  \n",
       "4          7.20  \n",
       "..          ...  \n",
       "560        0.39  \n",
       "561        5.01  \n",
       "562        2.77  \n",
       "563        5.66  \n",
       "564        4.76  \n",
       "\n",
       "[565 rows x 7 columns]"
      ]
     },
     "execution_count": 11,
     "metadata": {},
     "output_type": "execute_result"
    }
   ],
   "source": [
    "## This says skip this step if there are no cities with humidity over 100% which my data doesn't contain\n",
    "## However, for general use, I'll still write code that does drop the values\n",
    "cleanCityData = citiesDF[citiesDF.Humidity <= 100]\n",
    "cleanCityData"
   ]
  },
  {
   "cell_type": "code",
   "execution_count": 12,
   "metadata": {},
   "outputs": [],
   "source": [
    "#  Get the indices of cities that have humidity over 100%.\n",
    "\n",
    "## This isn't necessary since I can just do the search from the above cell that filters out all cities that have humidity\n",
    "## less than or equal to 100 effectively dropping all data with humidity greater than 100"
   ]
  },
  {
   "cell_type": "code",
   "execution_count": 13,
   "metadata": {},
   "outputs": [],
   "source": [
    "# Make a new DataFrame equal to the city data to drop all humidity outliers by index.\n",
    "# Passing \"inplace=False\" will make a copy of the city_data DataFrame, which we call \"clean_city_data\".\n",
    "\n",
    "## Also not necessary. See above."
   ]
  },
  {
   "cell_type": "markdown",
   "metadata": {},
   "source": [
    "## Plotting the Data\n",
    "* Use proper labeling of the plots using plot titles (including date of analysis) and axes labels.\n",
    "* Save the plotted figures as .pngs."
   ]
  },
  {
   "cell_type": "markdown",
   "metadata": {},
   "source": [
    "## Latitude vs. Temperature Plot"
   ]
  },
  {
   "cell_type": "code",
   "execution_count": 14,
   "metadata": {
    "scrolled": true
   },
   "outputs": [
    {
     "data": {
      "image/png": "[encoded data removed]",
      "text/plain": [
       "<Figure size 432x288 with 1 Axes>"
      ]
     },
     "metadata": {
      "needs_background": "light"
     },
     "output_type": "display_data"
    }
   ],
   "source": [
    "plt.scatter(cleanCityData[\"Lat\"], cleanCityData[\"Temp\"])\n",
    "plt.title(\"Latitude vs Temperature\")\n",
    "plt.xlabel(\"Latitude\")\n",
    "plt.ylabel(\"Temperature (K)\")\n",
    "plt.xlim(-90, 90)\n",
    "plt.savefig(\"Fig1.png\")\n",
    "plt.show()"
   ]
  },
  {
   "cell_type": "code",
   "execution_count": null,
   "metadata": {},
   "outputs": [],
   "source": [
    "## This plot is looking at the relationship between Latitude and temperature.\n",
    "## Looking at this you can see that, in general, the closer you get to the latitude of 0 the higher the temperature\n",
    "## This data does seem to skew closer to the 20 degree latitude being the highest temperature however\n",
    "## That skewing I believe is likely due to the tilt of the earth or potentially climate change."
   ]
  },
  {
   "cell_type": "markdown",
   "metadata": {},
   "source": [
    "## Latitude vs. Humidity Plot"
   ]
  },
  {
   "cell_type": "code",
   "execution_count": 15,
   "metadata": {},
   "outputs": [
    {
     "data": {
      "image/png": "[encoded data removed]",
      "text/plain": [
       "<Figure size 432x288 with 1 Axes>"
      ]
     },
     "metadata": {
      "needs_background": "light"
     },
     "output_type": "display_data"
    }
   ],
   "source": [
    "plt.scatter(cleanCityData[\"Lat\"], cleanCityData[\"Humidity\"])\n",
    "plt.title(\"Latitude vs Humidity\")\n",
    "plt.xlabel(\"Latitude\")\n",
    "plt.ylabel(\"Humidity (%)\")\n",
    "plt.xlim(-90, 90)\n",
    "plt.savefig(\"Fig2.png\")\n",
    "plt.show()"
   ]
  },
  {
   "cell_type": "code",
   "execution_count": null,
   "metadata": {},
   "outputs": [],
   "source": [
    "## This graph is looking at the relationship between latitude and humidity\n",
    "## I'd say, in general, that there doesn't appear to be a relationship between latitude and humidity \n",
    "## at least within the latitude parameters that we have\n",
    "## In general it seems latitude and humidity aren't particularly related"
   ]
  },
  {
   "cell_type": "markdown",
   "metadata": {},
   "source": [
    "## Latitude vs. Cloudiness Plot"
   ]
  },
  {
   "cell_type": "code",
   "execution_count": 16,
   "metadata": {},
   "outputs": [
    {
     "data": {
      "image/png": "[encoded data removed]",
      "text/plain": [
       "<Figure size 432x288 with 1 Axes>"
      ]
     },
     "metadata": {
      "needs_background": "light"
     },
     "output_type": "display_data"
    }
   ],
   "source": [
    "plt.scatter(cleanCityData[\"Lat\"], cleanCityData[\"Cloudiness\"])\n",
    "plt.title(\"Latitude vs Cloudiness\")\n",
    "plt.xlabel(\"Latitude\")\n",
    "plt.ylabel(\"Cloudiness (%)\")\n",
    "plt.xlim(-90, 90)\n",
    "plt.savefig(\"Fig4.png\")\n",
    "plt.show()"
   ]
  },
  {
   "cell_type": "code",
   "execution_count": null,
   "metadata": {},
   "outputs": [],
   "source": [
    "## This chart shows the relationship between latitude and cloudiness\n",
    "## Similarly to humidity, I can't really see any relationship here.\n",
    "## This seems pretty randomly scattered through our latitude range"
   ]
  },
  {
   "cell_type": "markdown",
   "metadata": {},
   "source": [
    "## Latitude vs. Wind Speed Plot"
   ]
  },
  {
   "cell_type": "code",
   "execution_count": 17,
   "metadata": {
    "scrolled": true
   },
   "outputs": [
    {
     "data": {
      "image/png": "[encoded data removed]",
      "text/plain": [
       "<Figure size 432x288 with 1 Axes>"
      ]
     },
     "metadata": {
      "needs_background": "light"
     },
     "output_type": "display_data"
    }
   ],
   "source": [
    "plt.scatter(cleanCityData[\"Lat\"], cleanCityData[\"Wind Speed\"])\n",
    "plt.title(\"Latitude vs Wind Speed\")\n",
    "plt.xlabel(\"Latitude\")\n",
    "plt.ylabel(\"Wind Speed (MPH)\")\n",
    "plt.xlim(-90, 90)\n",
    "plt.savefig(\"Fig3.png\")\n",
    "plt.show()"
   ]
  },
  {
   "cell_type": "code",
   "execution_count": null,
   "metadata": {},
   "outputs": [],
   "source": [
    "## This chart shows a relationsip between latitude and wind speed\n",
    "## This seems to have a similar relationship to the last two\n",
    "## As in I don't see one here. Maybe a slight negative relationship but overall seems randomly scattered"
   ]
  },
  {
   "cell_type": "markdown",
   "metadata": {},
   "source": [
    "## Linear Regression"
   ]
  },
  {
   "cell_type": "code",
   "execution_count": 18,
   "metadata": {},
   "outputs": [],
   "source": [
    "## First, I'm going to define two new dataframes. One for the Northern hemisphere and one for the southern.\n",
    "northernHemisphere = cleanCityData[cleanCityData.Lat >= 0]\n",
    "southernHemisphere = cleanCityData[cleanCityData.Lat < 0]"
   ]
  },
  {
   "cell_type": "markdown",
   "metadata": {},
   "source": [
    "####  Northern Hemisphere - Max Temp vs. Latitude Linear Regression"
   ]
  },
  {
   "cell_type": "code",
   "execution_count": 19,
   "metadata": {},
   "outputs": [
    {
     "name": "stdout",
     "output_type": "stream",
     "text": [
      "r value: -0.6565527181\n",
      "r^2 = 0.4311\n"
     ]
    },
    {
     "data": {
      "image/png": "[encoded data removed]",
      "text/plain": [
       "<Figure size 432x288 with 1 Axes>"
      ]
     },
     "metadata": {
      "needs_background": "light"
     },
     "output_type": "display_data"
    }
   ],
   "source": [
    "xValues = northernHemisphere[\"Lat\"]\n",
    "yValues = northernHemisphere[\"Temp\"]\n",
    "(slope, intercept, rvalue, pvalue, stderr) = linregress(xValues, yValues)\n",
    "regression = xValues * slope + intercept\n",
    "regressionEquation = f'y = {round(slope, 2)}x + {round(intercept,2)}'\n",
    "print(f'r value: {round(rvalue, 10)}')\n",
    "print(f'r^2 = {round(rvalue * rvalue, 4)}')\n",
    "plt.scatter(xValues, yValues)\n",
    "plt.plot(xValues, regression, color = \"red\")\n",
    "plt.xlabel(\"Latitude\")\n",
    "plt.ylabel(\"Temperature (F)\")\n",
    "plt.title(\"Northern Hemisphere: Latitude vs Temperature\")\n",
    "plt.text(20,280,regressionEquation, color = \"Red\")\n",
    "plt.show()"
   ]
  },
  {
   "cell_type": "markdown",
   "metadata": {},
   "source": [
    "####  Southern Hemisphere - Max Temp vs. Latitude Linear Regression"
   ]
  },
  {
   "cell_type": "code",
   "execution_count": 20,
   "metadata": {},
   "outputs": [
    {
     "name": "stdout",
     "output_type": "stream",
     "text": [
      "r value: 0.807188073\n",
      "r^2 = 0.6516\n"
     ]
    },
    {
     "data": {
      "image/png": "[encoded data removed]",
      "text/plain": [
       "<Figure size 432x288 with 1 Axes>"
      ]
     },
     "metadata": {
      "needs_background": "light"
     },
     "output_type": "display_data"
    }
   ],
   "source": [
    "xValues = southernHemisphere[\"Lat\"]\n",
    "yValues = southernHemisphere[\"Temp\"]\n",
    "(slope, intercept, rvalue, pvalue, stderr) = linregress(xValues, yValues)\n",
    "regression = xValues * slope + intercept\n",
    "regressionEquation = f'y = {round(slope, 2)}x + {round(intercept,2)}'\n",
    "print(f'r value: {round(rvalue, 10)}')\n",
    "print(f'r^2 = {round(rvalue * rvalue, 4)}')\n",
    "plt.scatter(xValues, yValues)\n",
    "plt.plot(xValues, regression, color = \"red\")\n",
    "plt.xlabel(\"Latitude\")\n",
    "plt.ylabel(\"Temperature (F)\")\n",
    "plt.title(\"Southern Hemisphere: Latitude vs Temperature\")\n",
    "plt.text(-20,275,regressionEquation, color = \"Red\")\n",
    "plt.show()"
   ]
  },
  {
   "cell_type": "code",
   "execution_count": null,
   "metadata": {},
   "outputs": [],
   "source": [
    "## In terms of temperature vs latitude it seems there is a pretty strong relationship on both sides\n",
    "## In the northern hemisphere, there is a decently strong negative relationship and in the south a strong positive relationship\n",
    "## Similarly to what I pointed out in the original scatter plot it increases towards 0 then decreases as latitude increases"
   ]
  },
  {
   "cell_type": "markdown",
   "metadata": {},
   "source": [
    "####  Northern Hemisphere - Humidity (%) vs. Latitude Linear Regression"
   ]
  },
  {
   "cell_type": "code",
   "execution_count": 21,
   "metadata": {},
   "outputs": [
    {
     "name": "stdout",
     "output_type": "stream",
     "text": [
      "r value: 0.0528480231\n",
      "r^2 = 0.0028\n"
     ]
    },
    {
     "data": {
      "image/png": "[encoded data removed]",
      "text/plain": [
       "<Figure size 432x288 with 1 Axes>"
      ]
     },
     "metadata": {
      "needs_background": "light"
     },
     "output_type": "display_data"
    }
   ],
   "source": [
    "xValues = northernHemisphere[\"Lat\"]\n",
    "yValues = northernHemisphere[\"Humidity\"]\n",
    "(slope, intercept, rvalue, pvalue, stderr) = linregress(xValues, yValues)\n",
    "regression = xValues * slope + intercept\n",
    "regressionEquation = f'y = {round(slope, 2)}x + {round(intercept,2)}'\n",
    "print(f'r value: {round(rvalue, 10)}')\n",
    "print(f'r^2 = {round(rvalue * rvalue, 4)}')\n",
    "plt.scatter(xValues, yValues)\n",
    "plt.plot(xValues, regression, color = \"red\")\n",
    "plt.xlabel(\"Latitude\")\n",
    "plt.ylabel(\"Humidity (%)\")\n",
    "plt.title(\"Northern Hemisphere: Latitude vs Humidity\")\n",
    "plt.text(55,20,regressionEquation, color = \"Red\")\n",
    "plt.show()"
   ]
  },
  {
   "cell_type": "markdown",
   "metadata": {},
   "source": [
    "####  Southern Hemisphere - Humidity (%) vs. Latitude Linear Regression"
   ]
  },
  {
   "cell_type": "code",
   "execution_count": 22,
   "metadata": {},
   "outputs": [
    {
     "name": "stdout",
     "output_type": "stream",
     "text": [
      "r value: -0.0524424095\n",
      "r^2 = 0.0028\n"
     ]
    },
    {
     "data": {
      "image/png": "[encoded data removed]",
      "text/plain": [
       "<Figure size 432x288 with 1 Axes>"
      ]
     },
     "metadata": {
      "needs_background": "light"
     },
     "output_type": "display_data"
    }
   ],
   "source": [
    "xValues = southernHemisphere[\"Lat\"]\n",
    "yValues = southernHemisphere[\"Humidity\"]\n",
    "(slope, intercept, rvalue, pvalue, stderr) = linregress(xValues, yValues)\n",
    "regression = xValues * slope + intercept\n",
    "regressionEquation = f'y = {round(slope, 2)}x + {round(intercept,2)}'\n",
    "print(f'r value: {round(rvalue, 10)}')\n",
    "print(f'r^2 = {round(rvalue * rvalue, 4)}')\n",
    "plt.scatter(xValues, yValues)\n",
    "plt.plot(xValues, regression, color = \"red\")\n",
    "plt.xlabel(\"Latitude\")\n",
    "plt.ylabel(\"Humidity (%)\")\n",
    "plt.title(\"Southern Hemisphere: Latitude vs Humidity\")\n",
    "plt.text(-55,20,regressionEquation, color = \"Red\")\n",
    "plt.show()"
   ]
  },
  {
   "cell_type": "code",
   "execution_count": null,
   "metadata": {},
   "outputs": [],
   "source": [
    "## The regression for each of these shows a slight relationship but the r-squared values tell me that, even though the \n",
    "## regression shows a slight relationship, the relationship is still really random"
   ]
  },
  {
   "cell_type": "markdown",
   "metadata": {},
   "source": [
    "####  Northern Hemisphere - Cloudiness (%) vs. Latitude Linear Regression"
   ]
  },
  {
   "cell_type": "code",
   "execution_count": 23,
   "metadata": {},
   "outputs": [
    {
     "name": "stdout",
     "output_type": "stream",
     "text": [
      "r value: -0.0301151758\n",
      "r^2 = 0.0009\n"
     ]
    },
    {
     "data": {
      "image/png": "[encoded data removed]",
      "text/plain": [
       "<Figure size 432x288 with 1 Axes>"
      ]
     },
     "metadata": {
      "needs_background": "light"
     },
     "output_type": "display_data"
    }
   ],
   "source": [
    "xValues = northernHemisphere[\"Lat\"]\n",
    "yValues = northernHemisphere[\"Cloudiness\"]\n",
    "(slope, intercept, rvalue, pvalue, stderr) = linregress(xValues, yValues)\n",
    "regression = xValues * slope + intercept\n",
    "regressionEquation = f'y = {round(slope, 2)}x + {round(intercept,2)}'\n",
    "print(f'r value: {round(rvalue, 10)}')\n",
    "print(f'r^2 = {round(rvalue * rvalue, 4)}')\n",
    "plt.scatter(xValues, yValues)\n",
    "plt.plot(xValues, regression, color = \"red\")\n",
    "plt.xlabel(\"Latitude\")\n",
    "plt.ylabel(\"Cloudiness (%)\")\n",
    "plt.title(\"Northern Hemisphere: Latitude vs Cloudiness\")\n",
    "plt.text(0,8,regressionEquation, color = \"Red\")\n",
    "plt.show()"
   ]
  },
  {
   "cell_type": "markdown",
   "metadata": {},
   "source": [
    "####  Southern Hemisphere - Cloudiness (%) vs. Latitude Linear Regression"
   ]
  },
  {
   "cell_type": "code",
   "execution_count": 24,
   "metadata": {},
   "outputs": [
    {
     "name": "stdout",
     "output_type": "stream",
     "text": [
      "r value: -0.1094942337\n",
      "r^2 = 0.012\n"
     ]
    },
    {
     "data": {
      "image/png": "[encoded data removed]",
      "text/plain": [
       "<Figure size 432x288 with 1 Axes>"
      ]
     },
     "metadata": {
      "needs_background": "light"
     },
     "output_type": "display_data"
    }
   ],
   "source": [
    "xValues = southernHemisphere[\"Lat\"]\n",
    "yValues = southernHemisphere[\"Cloudiness\"]\n",
    "(slope, intercept, rvalue, pvalue, stderr) = linregress(xValues, yValues)\n",
    "regression = xValues * slope + intercept\n",
    "regressionEquation = f'y = {round(slope, 2)}x + {round(intercept,2)}'\n",
    "print(f'r value: {round(rvalue, 10)}')\n",
    "print(f'r^2 = {round(rvalue * rvalue, 4)}')\n",
    "plt.scatter(xValues, yValues)\n",
    "plt.plot(xValues, regression, color = \"red\")\n",
    "plt.xlabel(\"Latitude\")\n",
    "plt.ylabel(\"Cloudiness (%)\")\n",
    "plt.title(\"Southern Hemisphere: Latitude vs Cloudiness\")\n",
    "plt.text(-55,55,regressionEquation, color = \"Red\")\n",
    "plt.show()"
   ]
  },
  {
   "cell_type": "code",
   "execution_count": 28,
   "metadata": {},
   "outputs": [],
   "source": [
    "## Near Identical to the humidity regression, each of these shows a small relationship but with the low r-squared value\n",
    "## I can't say either of these actually have any relationship."
   ]
  },
  {
   "cell_type": "markdown",
   "metadata": {},
   "source": [
    "####  Northern Hemisphere - Wind Speed (mph) vs. Latitude Linear Regression"
   ]
  },
  {
   "cell_type": "code",
   "execution_count": 25,
   "metadata": {},
   "outputs": [
    {
     "name": "stdout",
     "output_type": "stream",
     "text": [
      "r value: -0.079984602\n",
      "r^2 = 0.0064\n"
     ]
    },
    {
     "data": {
      "image/png": "[encoded data removed]",
      "text/plain": [
       "<Figure size 432x288 with 1 Axes>"
      ]
     },
     "metadata": {
      "needs_background": "light"
     },
     "output_type": "display_data"
    }
   ],
   "source": [
    "xValues = northernHemisphere[\"Lat\"]\n",
    "yValues = northernHemisphere[\"Wind Speed\"]\n",
    "(slope, intercept, rvalue, pvalue, stderr) = linregress(xValues, yValues)\n",
    "regression = xValues * slope + intercept\n",
    "regressionEquation = f'y = {round(slope, 2)}x + {round(intercept,2)}'\n",
    "print(f'r value: {round(rvalue, 10)}')\n",
    "print(f'r^2 = {round(rvalue * rvalue, 4)}')\n",
    "plt.scatter(xValues, yValues)\n",
    "plt.plot(xValues, regression, color = \"red\")\n",
    "plt.xlabel(\"Latitude\")\n",
    "plt.ylabel(\"Wind Speed (MPH)\")\n",
    "plt.title(\"Northern Hemisphere: Latitude vs Wind Speed\")\n",
    "plt.text(30,12,regressionEquation, color = \"Red\")\n",
    "plt.show()"
   ]
  },
  {
   "cell_type": "markdown",
   "metadata": {},
   "source": [
    "####  Southern Hemisphere - Wind Speed (mph) vs. Latitude Linear Regression"
   ]
  },
  {
   "cell_type": "code",
   "execution_count": 26,
   "metadata": {},
   "outputs": [
    {
     "name": "stdout",
     "output_type": "stream",
     "text": [
      "r value: -0.2112969853\n",
      "r^2 = 0.0446\n"
     ]
    },
    {
     "data": {
      "image/png": "[encoded data removed]",
      "text/plain": [
       "<Figure size 432x288 with 1 Axes>"
      ]
     },
     "metadata": {
      "needs_background": "light"
     },
     "output_type": "display_data"
    }
   ],
   "source": [
    "xValues = southernHemisphere[\"Lat\"]\n",
    "yValues = southernHemisphere[\"Wind Speed\"]\n",
    "(slope, intercept, rvalue, pvalue, stderr) = linregress(xValues, yValues)\n",
    "regression = xValues * slope + intercept\n",
    "regressionEquation = f'y = {round(slope, 2)}x + {round(intercept,2)}'\n",
    "print(f'r value: {round(rvalue, 10)}')\n",
    "print(f'r^2 = {round(rvalue * rvalue, 4)}')\n",
    "plt.scatter(xValues, yValues)\n",
    "plt.plot(xValues, regression, color = \"red\")\n",
    "plt.xlabel(\"Latitude\")\n",
    "plt.ylabel(\"Wind Speed (MPH)\")\n",
    "plt.title(\"Southern Hemisphere: Latitude vs Wind Speed\")\n",
    "plt.text(-55,6,regressionEquation, color = \"Red\")\n",
    "plt.show()"
   ]
  },
  {
   "cell_type": "code",
   "execution_count": null,
   "metadata": {},
   "outputs": [],
   "source": [
    "## ## Near Identical to the humidity and cloudiness regressions, \n",
    "## each of these shows a small relationship but with the low r-squared value I can't say either of these actually \n",
    "## have any relationship."
   ]
  },
  {
   "cell_type": "code",
   "execution_count": 27,
   "metadata": {},
   "outputs": [],
   "source": [
    "## Lastly, I write everything to the .csv\n",
    "cleanCityData.to_csv(output_data_file, index = False)"
   ]
  },
  {
   "cell_type": "code",
   "execution_count": null,
   "metadata": {},
   "outputs": [],
   "source": []
  }
 ],
 "metadata": {
  "anaconda-cloud": {},
  "kernel_info": {
   "name": "python3"
  },
  "kernelspec": {
   "display_name": "Python 3",
   "language": "python",
   "name": "python3"
  },
  "language_info": {
   "codemirror_mode": {
    "name": "ipython",
    "version": 3
   },
   "file_extension": ".py",
   "mimetype": "text/x-python",
   "name": "python",
   "nbconvert_exporter": "python",
   "pygments_lexer": "ipython3",
   "version": "3.7.10"
  },
  "latex_envs": {
   "LaTeX_envs_menu_present": true,
   "autoclose": false,
   "autocomplete": true,
   "bibliofile": "biblio.bib",
   "cite_by": "apalike",
   "current_citInitial": 1,
   "eqLabelWithNumbers": true,
   "eqNumInitial": 1,
   "hotkeys": {
    "equation": "Ctrl-E",
    "itemize": "Ctrl-I"
   },
   "labels_anchors": false,
   "latex_user_defs": false,
   "report_style_numbering": false,
   "user_envs_cfg": false
  },
  "nteract": {
   "version": "0.12.3"
  }
 },
 "nbformat": 4,
 "nbformat_minor": 2
}
