{
 "cells": [
  {
   "cell_type": "markdown",
   "metadata": {},
   "source": [
    "# WeatherPy\n",
    "----\n",
    "\n",
    "#### Note\n",
    "* Instructions have been included for each segment. You do not have to follow them exactly, but they are included to help you think through the steps."
   ]
  },
  {
   "cell_type": "code",
   "execution_count": 1,
   "metadata": {},
   "outputs": [],
   "source": [
    "## Hello!\n",
    "## Since the starter code uses a single # to mark its comments, I will be using ## to mark anything I've written\n",
    "## So like these comments here, if you see ## that means I wrote it."
   ]
  },
  {
   "cell_type": "code",
   "execution_count": 2,
   "metadata": {},
   "outputs": [],
   "source": [
    "## If Citipy doesn't work, comment out the below line of code and run that before running the rest.\n",
    "## !pip install citipy"
   ]
  },
  {
   "cell_type": "code",
   "execution_count": 3,
   "metadata": {
    "scrolled": true
   },
   "outputs": [],
   "source": [
    "# Dependencies and Setup\n",
    "import matplotlib.pyplot as plt\n",
    "import pandas as pd\n",
    "import numpy as np\n",
    "import requests\n",
    "import time\n",
    "from scipy.stats import linregress\n",
    "\n",
    "# Import API key\n",
    "from api_keys import weather_api_key\n",
    "\n",
    "# Incorporated citipy to determine city based on latitude and longitude\n",
    "from citipy import citipy\n",
    "\n",
    "# Output File (CSV)\n",
    "output_data_file = \"output_data/cities.csv\"\n",
    "\n",
    "# Range of latitudes and longitudes\n",
    "lat_range = (-90, 90)\n",
    "lng_range = (-180, 180)"
   ]
  },
  {
   "cell_type": "markdown",
   "metadata": {},
   "source": [
    "## Generate Cities List"
   ]
  },
  {
   "cell_type": "code",
   "execution_count": 4,
   "metadata": {},
   "outputs": [],
   "source": [
    "## This next segment grabs a number of cities at random using the ranges above and stores them in a list"
   ]
  },
  {
   "cell_type": "code",
   "execution_count": 5,
   "metadata": {},
   "outputs": [
    {
     "data": {
      "text/plain": [
       "617"
      ]
     },
     "execution_count": 5,
     "metadata": {},
     "output_type": "execute_result"
    }
   ],
   "source": [
    "# List for holding lat_lngs and cities\n",
    "lat_lngs = []\n",
    "cities = []\n",
    "\n",
    "# Create a set of random lat and lng combinations\n",
    "lats = np.random.uniform(lat_range[0], lat_range[1], size=1500)\n",
    "lngs = np.random.uniform(lng_range[0], lng_range[1], size=1500)\n",
    "lat_lngs = zip(lats, lngs)\n",
    "\n",
    "# Identify nearest city for each lat, lng combination\n",
    "for lat_lng in lat_lngs:\n",
    "    city = citipy.nearest_city(lat_lng[0], lat_lng[1]).city_name\n",
    "    \n",
    "    # If the city is unique, then add it to a our cities list\n",
    "    if city not in cities:\n",
    "        cities.append(city)\n",
    "\n",
    "# Print the city count to confirm sufficient count\n",
    "len(cities)"
   ]
  },
  {
   "cell_type": "markdown",
   "metadata": {},
   "source": [
    "### Perform API Calls\n",
    "* Perform a weather check on each city using a series of successive API calls.\n",
    "* Include a print log of each city as it'sbeing processed (with the city number and city name).\n"
   ]
  },
  {
   "cell_type": "code",
   "execution_count": 6,
   "metadata": {},
   "outputs": [],
   "source": [
    "## First I'm going to create a number of lists to store the data that I need including the latitude, longitude, temperature\n",
    "## humidity, cloudiness, and wind speed\n",
    "cityName = []\n",
    "latitude = []\n",
    "longitude = []\n",
    "temperature = []\n",
    "humidity = []\n",
    "cloudiness = []\n",
    "windSpeed = []\n"
   ]
  },
  {
   "cell_type": "code",
   "execution_count": 7,
   "metadata": {},
   "outputs": [],
   "source": [
    "## Defining variables for API call loop\n",
    "url = \"https://api.openweathermap.org/data/2.5/weather?q=\"\n",
    "apiKEY = weather_api_key"
   ]
  },
  {
   "cell_type": "code",
   "execution_count": 8,
   "metadata": {
    "scrolled": false
   },
   "outputs": [
    {
     "name": "stdout",
     "output_type": "stream",
     "text": [
      "Processing for city: rikitea\n",
      "Processing for city: berestechko\n",
      "Processing for city: fortuna\n",
      "Processing for city: provideniya\n",
      "Processing for city: klaksvik\n",
      "Processing for city: cherskiy\n",
      "Processing for city: albany\n",
      "Processing for city: ribeira grande\n",
      "Processing for city: torbay\n",
      "Processing for city: taolanaro\n",
      "There is no data for taolanaro. Moving to next city.\n",
      "Processing for city: belushya guba\n",
      "There is no data for belushya guba. Moving to next city.\n",
      "Processing for city: mataura\n",
      "Processing for city: bredasdorp\n",
      "Processing for city: bethel\n",
      "Processing for city: butaritari\n",
      "Processing for city: lorengau\n",
      "Processing for city: along\n",
      "Processing for city: brae\n",
      "Processing for city: dikson\n",
      "Processing for city: saint-paul\n",
      "Processing for city: soyo\n",
      "Processing for city: waingapu\n",
      "Processing for city: auki\n",
      "Processing for city: samusu\n",
      "There is no data for samusu. Moving to next city.\n",
      "Processing for city: samana\n",
      "Processing for city: cape town\n",
      "Processing for city: port alfred\n",
      "Processing for city: lagoa\n",
      "Processing for city: bluff\n",
      "Processing for city: lebu\n",
      "Processing for city: kodiak\n",
      "Processing for city: hermanus\n",
      "Processing for city: abrau-dyurso\n",
      "Processing for city: ancud\n",
      "Processing for city: sorvag\n",
      "There is no data for sorvag. Moving to next city.\n",
      "Processing for city: kapaa\n",
      "Processing for city: san matias\n",
      "Processing for city: ust-tsilma\n",
      "Processing for city: avarua\n",
      "Processing for city: zelenoborskiy\n",
      "Processing for city: upernavik\n",
      "Processing for city: ushuaia\n",
      "Processing for city: galveston\n",
      "Processing for city: busselton\n",
      "Processing for city: cienaga\n",
      "Processing for city: hilo\n",
      "Processing for city: illoqqortoormiut\n",
      "There is no data for illoqqortoormiut. Moving to next city.\n",
      "Processing for city: berbera\n",
      "Processing for city: faya\n",
      "Processing for city: ilebo\n",
      "Processing for city: grenaa\n",
      "Processing for city: punta arenas\n",
      "Processing for city: george town\n",
      "Processing for city: lompoc\n",
      "Processing for city: makuyuni\n",
      "Processing for city: peniche\n",
      "Processing for city: chuy\n",
      "Processing for city: husavik\n",
      "Processing for city: aklavik\n",
      "Processing for city: amagi\n",
      "Processing for city: hithadhoo\n",
      "Processing for city: beni suef\n",
      "Processing for city: egvekinot\n",
      "Processing for city: kyren\n",
      "Processing for city: cabo san lucas\n",
      "Processing for city: tuktoyaktuk\n",
      "Processing for city: cazaje\n",
      "There is no data for cazaje. Moving to next city.\n",
      "Processing for city: tambacounda\n",
      "Processing for city: kuala terengganu\n",
      "Processing for city: caravelas\n",
      "Processing for city: touros\n",
      "Processing for city: miguel auza\n",
      "Processing for city: gazanjyk\n",
      "Processing for city: padang\n",
      "Processing for city: thompson\n",
      "Processing for city: los llanos de aridane\n",
      "Processing for city: puerto ayora\n",
      "Processing for city: broome\n",
      "Processing for city: puteyets\n",
      "Processing for city: itaberaba\n",
      "Processing for city: norman wells\n",
      "Processing for city: wielun\n",
      "Processing for city: eureka\n",
      "Processing for city: fort nelson\n",
      "Processing for city: yanchukan\n",
      "There is no data for yanchukan. Moving to next city.\n",
      "Processing for city: mar del plata\n",
      "Processing for city: nenton\n",
      "Processing for city: saint-pierre\n",
      "Processing for city: new norfolk\n",
      "Processing for city: mushie\n",
      "Processing for city: hohhot\n",
      "Processing for city: atuona\n",
      "Processing for city: qaanaaq\n",
      "Processing for city: kavieng\n",
      "Processing for city: itarema\n",
      "Processing for city: kaitangata\n",
      "Processing for city: sabang\n",
      "Processing for city: severo-kurilsk\n",
      "Processing for city: barrow\n",
      "Processing for city: victoria\n",
      "Processing for city: rio grande\n",
      "Processing for city: saint-augustin\n",
      "Processing for city: hualmay\n",
      "Processing for city: castro\n",
      "Processing for city: gracanica\n",
      "Processing for city: muros\n",
      "Processing for city: safranbolu\n",
      "Processing for city: coquimbo\n",
      "Processing for city: fairmont\n",
      "Processing for city: deputatskiy\n",
      "Processing for city: alice springs\n",
      "Processing for city: starobaltachevo\n",
      "Processing for city: shache\n",
      "Processing for city: yanam\n",
      "Processing for city: chuncheng\n",
      "Processing for city: san luis\n",
      "Processing for city: east london\n",
      "Processing for city: tasiilaq\n",
      "Processing for city: portland\n",
      "Processing for city: evensk\n",
      "Processing for city: namatanai\n",
      "Processing for city: mount isa\n",
      "Processing for city: kurilsk\n",
      "Processing for city: saleaula\n",
      "There is no data for saleaula. Moving to next city.\n",
      "Processing for city: kula\n",
      "Processing for city: arraial do cabo\n",
      "Processing for city: novyy urengoy\n",
      "Processing for city: kuna\n",
      "Processing for city: sitka\n",
      "Processing for city: acuna\n",
      "There is no data for acuna. Moving to next city.\n",
      "Processing for city: bilma\n",
      "Processing for city: bilibino\n",
      "Processing for city: nizhneyansk\n",
      "There is no data for nizhneyansk. Moving to next city.\n",
      "Processing for city: airai\n",
      "Processing for city: cidreira\n",
      "Processing for city: havre-saint-pierre\n",
      "Processing for city: ponta do sol\n",
      "Processing for city: matagami\n",
      "Processing for city: palekh\n",
      "Processing for city: yulara\n",
      "Processing for city: antalaha\n",
      "Processing for city: usinsk\n",
      "Processing for city: neka\n",
      "Processing for city: nieuw nickerie\n",
      "Processing for city: poole\n",
      "Processing for city: longyearbyen\n",
      "Processing for city: kununurra\n",
      "Processing for city: mwinilunga\n",
      "Processing for city: grindavik\n",
      "Processing for city: guelavia\n",
      "There is no data for guelavia. Moving to next city.\n",
      "Processing for city: mount gambier\n",
      "Processing for city: svetlogorsk\n",
      "Processing for city: harper\n",
      "Processing for city: nome\n",
      "Processing for city: jiuquan\n",
      "Processing for city: khatanga\n",
      "Processing for city: mys shmidta\n",
      "There is no data for mys shmidta. Moving to next city.\n",
      "Processing for city: jamestown\n",
      "Processing for city: pochutla\n",
      "Processing for city: hobart\n",
      "Processing for city: belaya gora\n",
      "Processing for city: namibe\n",
      "Processing for city: sao joao da barra\n",
      "Processing for city: esna\n",
      "Processing for city: pisco\n",
      "Processing for city: vaini\n",
      "Processing for city: elizabeth city\n",
      "Processing for city: clyde river\n",
      "Processing for city: esperance\n",
      "Processing for city: skibbereen\n",
      "Processing for city: la palma\n",
      "Processing for city: mae sai\n",
      "Processing for city: abiy adi\n",
      "There is no data for abiy adi. Moving to next city.\n",
      "Processing for city: sadon\n",
      "Processing for city: grand river south east\n",
      "There is no data for grand river south east. Moving to next city.\n",
      "Processing for city: buckingham\n",
      "Processing for city: nanortalik\n",
      "Processing for city: vao\n",
      "Processing for city: sakakah\n",
      "Processing for city: alexandria\n",
      "Processing for city: talnakh\n",
      "Processing for city: pavilosta\n",
      "Processing for city: laguna\n",
      "Processing for city: nikolskoye\n",
      "Processing for city: tilichiki\n",
      "Processing for city: cayenne\n",
      "Processing for city: inuvik\n",
      "Processing for city: general roca\n",
      "Processing for city: sahuaripa\n",
      "Processing for city: gorom-gorom\n",
      "Processing for city: kuteynykove\n",
      "Processing for city: attawapiskat\n",
      "There is no data for attawapiskat. Moving to next city.\n",
      "Processing for city: nouadhibou\n",
      "Processing for city: mahebourg\n",
      "Processing for city: gisborne\n",
      "Processing for city: port elizabeth\n",
      "Processing for city: rio gallegos\n",
      "Processing for city: manoharpur\n",
      "Processing for city: saskylakh\n",
      "Processing for city: georgetown\n",
      "Processing for city: tutoia\n",
      "Processing for city: biak\n",
      "Processing for city: halalo\n",
      "There is no data for halalo. Moving to next city.\n",
      "Processing for city: port moresby\n",
      "Processing for city: bobcaygeon\n",
      "Processing for city: hirara\n",
      "Processing for city: praia da vitoria\n",
      "Processing for city: fare\n",
      "Processing for city: gao\n",
      "Processing for city: bambous virieux\n",
      "Processing for city: dryden\n",
      "Processing for city: salalah\n",
      "Processing for city: jiddah\n",
      "There is no data for jiddah. Moving to next city.\n",
      "Processing for city: corner brook\n",
      "Processing for city: fairbanks\n",
      "Processing for city: guerrero negro\n",
      "Processing for city: souillac\n",
      "Processing for city: tiksi\n",
      "Processing for city: esso\n",
      "Processing for city: bonavista\n",
      "Processing for city: xai-xai\n",
      "Processing for city: gulshat\n",
      "There is no data for gulshat. Moving to next city.\n",
      "Processing for city: samarai\n",
      "Processing for city: gat\n",
      "Processing for city: nieuwpoort\n",
      "Processing for city: candelaria\n",
      "Processing for city: solovetskiy\n",
      "There is no data for solovetskiy. Moving to next city.\n",
      "Processing for city: codrington\n",
      "Processing for city: nizhnevartovsk\n",
      "Processing for city: korla\n",
      "Processing for city: tazovskiy\n",
      "Processing for city: lucea\n",
      "Processing for city: saint-joseph\n",
      "Processing for city: kavaratti\n",
      "Processing for city: valparaiso\n",
      "Processing for city: mumbwa\n"
     ]
    },
    {
     "name": "stdout",
     "output_type": "stream",
     "text": [
      "Processing for city: eyl\n",
      "Processing for city: barranca\n",
      "Processing for city: dormont\n",
      "Processing for city: ostrovnoy\n",
      "Processing for city: neftcala\n",
      "Processing for city: ngukurr\n",
      "There is no data for ngukurr. Moving to next city.\n",
      "Processing for city: carnarvon\n",
      "Processing for city: aleksandrov gay\n",
      "Processing for city: murree\n",
      "Processing for city: nurota\n",
      "Processing for city: ulladulla\n",
      "Processing for city: pevek\n",
      "Processing for city: cheuskiny\n",
      "There is no data for cheuskiny. Moving to next city.\n",
      "Processing for city: kapuskasing\n",
      "Processing for city: sao filipe\n",
      "Processing for city: fuling\n",
      "Processing for city: pierre\n",
      "Processing for city: alekseyevsk\n",
      "Processing for city: inta\n",
      "Processing for city: qasigiannguit\n",
      "Processing for city: ningxiang\n",
      "Processing for city: dali\n",
      "Processing for city: gizo\n",
      "Processing for city: altagracia de orituco\n",
      "Processing for city: fiumicino\n",
      "Processing for city: port lincoln\n",
      "Processing for city: makakilo city\n",
      "Processing for city: nsanje\n",
      "Processing for city: dingle\n",
      "Processing for city: nokaneng\n",
      "Processing for city: chokurdakh\n",
      "Processing for city: lavrentiya\n",
      "Processing for city: tatvan\n",
      "Processing for city: bontang\n",
      "Processing for city: ngunguru\n",
      "Processing for city: jijiga\n",
      "Processing for city: benghazi\n",
      "Processing for city: half moon bay\n",
      "Processing for city: piney green\n",
      "Processing for city: lais\n",
      "Processing for city: mundargi\n",
      "Processing for city: segovia\n",
      "Processing for city: bonthe\n",
      "Processing for city: beringovskiy\n",
      "Processing for city: san patricio\n",
      "Processing for city: luderitz\n",
      "Processing for city: lasa\n",
      "Processing for city: port-cartier\n",
      "Processing for city: sur\n",
      "Processing for city: vardo\n",
      "Processing for city: anori\n",
      "Processing for city: fortuna foothills\n",
      "Processing for city: mareeba\n",
      "Processing for city: tiznit\n",
      "Processing for city: nizhniy tsasuchey\n",
      "Processing for city: cockburn town\n",
      "Processing for city: mersin\n",
      "Processing for city: pustoshka\n",
      "Processing for city: ambon\n",
      "Processing for city: kirakira\n",
      "Processing for city: brandon\n",
      "Processing for city: huarmey\n",
      "Processing for city: hamilton\n",
      "Processing for city: santa isabel do rio negro\n",
      "Processing for city: bathsheba\n",
      "Processing for city: anadyr\n",
      "Processing for city: bosaso\n",
      "Processing for city: haverfordwest\n",
      "Processing for city: krasnoselkup\n",
      "Processing for city: maputo\n",
      "Processing for city: amderma\n",
      "There is no data for amderma. Moving to next city.\n",
      "Processing for city: herat\n",
      "Processing for city: tumannyy\n",
      "There is no data for tumannyy. Moving to next city.\n",
      "Processing for city: pinsk\n",
      "Processing for city: sataua\n",
      "There is no data for sataua. Moving to next city.\n",
      "Processing for city: killarney\n",
      "Processing for city: strezhevoy\n",
      "Processing for city: iskateley\n",
      "Processing for city: lolua\n",
      "There is no data for lolua. Moving to next city.\n",
      "Processing for city: campos\n",
      "Processing for city: poum\n",
      "Processing for city: manta\n",
      "Processing for city: sabha\n",
      "Processing for city: puerto maldonado\n",
      "Processing for city: priargunsk\n",
      "Processing for city: vorozhba\n",
      "Processing for city: marfino\n",
      "Processing for city: yellowknife\n",
      "Processing for city: manbij\n",
      "Processing for city: saint-philippe\n",
      "Processing for city: tsihombe\n",
      "There is no data for tsihombe. Moving to next city.\n",
      "Processing for city: kumano\n",
      "Processing for city: college\n",
      "Processing for city: aflu\n",
      "There is no data for aflu. Moving to next city.\n",
      "Processing for city: komsomolskiy\n",
      "Processing for city: lyubytino\n",
      "Processing for city: sao jose da coroa grande\n",
      "Processing for city: sire\n",
      "Processing for city: tunxi\n",
      "There is no data for tunxi. Moving to next city.\n",
      "Processing for city: mazatlan\n",
      "Processing for city: xichang\n",
      "Processing for city: nishihara\n",
      "Processing for city: leningradskiy\n",
      "Processing for city: tura\n",
      "Processing for city: waipawa\n",
      "Processing for city: katsuura\n",
      "Processing for city: belyy yar\n",
      "Processing for city: sterling\n",
      "Processing for city: goderich\n",
      "Processing for city: artyk\n",
      "There is no data for artyk. Moving to next city.\n",
      "Processing for city: tobol\n",
      "Processing for city: faanui\n",
      "Processing for city: hofn\n",
      "Processing for city: castro daire\n",
      "Processing for city: gornyatskiy\n",
      "Processing for city: santo antonio do ica\n",
      "Processing for city: port shepstone\n",
      "Processing for city: nizhniy kuranakh\n",
      "Processing for city: goure\n",
      "Processing for city: ondjiva\n",
      "Processing for city: san quintin\n",
      "Processing for city: mbaiki\n",
      "Processing for city: te anau\n",
      "Processing for city: ahipara\n",
      "Processing for city: marsa matruh\n",
      "Processing for city: roswell\n",
      "Processing for city: neiafu\n",
      "Processing for city: lhokseumawe\n",
      "Processing for city: melendugno\n",
      "Processing for city: araouane\n",
      "Processing for city: santa marta\n",
      "Processing for city: tigil\n",
      "Processing for city: ambulu\n",
      "Processing for city: north bend\n",
      "Processing for city: lubben\n",
      "Processing for city: tweed\n",
      "Processing for city: rosa zarate\n",
      "Processing for city: carutapera\n",
      "Processing for city: luwuk\n",
      "Processing for city: caucaia\n",
      "Processing for city: carlsbad\n",
      "Processing for city: manaure\n",
      "Processing for city: akdepe\n",
      "Processing for city: geraldton\n",
      "Processing for city: buraydah\n",
      "Processing for city: malwan\n",
      "There is no data for malwan. Moving to next city.\n",
      "Processing for city: muli\n",
      "Processing for city: port hardy\n",
      "Processing for city: guelengdeng\n",
      "There is no data for guelengdeng. Moving to next city.\n",
      "Processing for city: labuhan\n",
      "Processing for city: shingu\n",
      "Processing for city: houston\n",
      "Processing for city: kuche\n",
      "There is no data for kuche. Moving to next city.\n",
      "Processing for city: vaitupu\n",
      "There is no data for vaitupu. Moving to next city.\n",
      "Processing for city: urengoy\n",
      "Processing for city: aksu\n",
      "Processing for city: noumea\n",
      "Processing for city: tinjah\n",
      "There is no data for tinjah. Moving to next city.\n",
      "Processing for city: kaoma\n",
      "Processing for city: kahului\n",
      "Processing for city: saint george\n",
      "Processing for city: zabol\n",
      "Processing for city: marsh harbour\n",
      "Processing for city: dong xoai\n",
      "Processing for city: soligalich\n",
      "Processing for city: gannan\n",
      "Processing for city: okha\n",
      "Processing for city: toropets\n",
      "Processing for city: ugoofaaru\n",
      "Processing for city: sentyabrskiy\n",
      "There is no data for sentyabrskiy. Moving to next city.\n",
      "Processing for city: tuatapere\n",
      "Processing for city: tiarei\n",
      "Processing for city: benton harbor\n",
      "Processing for city: ketchikan\n",
      "Processing for city: vrangel\n",
      "Processing for city: pangnirtung\n",
      "Processing for city: malanje\n",
      "Processing for city: terrace\n",
      "Processing for city: pitimbu\n",
      "Processing for city: zhaoqing\n",
      "Processing for city: constitucion\n",
      "Processing for city: tambopata\n",
      "Processing for city: sayat\n",
      "Processing for city: mansa\n",
      "Processing for city: wildwood\n",
      "Processing for city: la ronge\n",
      "Processing for city: lata\n",
      "Processing for city: angleton\n",
      "Processing for city: the valley\n",
      "Processing for city: taltal\n",
      "Processing for city: sorland\n",
      "Processing for city: moffat\n",
      "Processing for city: miandrivazo\n",
      "Processing for city: palmer\n",
      "Processing for city: yatou\n",
      "Processing for city: kiama\n",
      "Processing for city: barentsburg\n",
      "There is no data for barentsburg. Moving to next city.\n",
      "Processing for city: koilas\n",
      "Processing for city: progreso\n",
      "Processing for city: san vicente\n",
      "Processing for city: acarau\n",
      "Processing for city: mukhen\n",
      "Processing for city: pacific grove\n",
      "Processing for city: popova\n",
      "Processing for city: mayor pablo lagerenza\n",
      "Processing for city: paamiut\n",
      "Processing for city: vestmanna\n",
      "Processing for city: panaba\n",
      "Processing for city: mapiri\n",
      "Processing for city: raudeberg\n",
      "Processing for city: wanxian\n",
      "Processing for city: chumikan\n",
      "Processing for city: borovskoy\n",
      "Processing for city: frontignan\n",
      "Processing for city: tapaua\n",
      "There is no data for tapaua. Moving to next city.\n",
      "Processing for city: kieta\n",
      "Processing for city: barbar\n",
      "There is no data for barbar. Moving to next city.\n",
      "Processing for city: miracema do tocantins\n",
      "Processing for city: bayshore gardens\n",
      "Processing for city: dolores\n",
      "Processing for city: merauke\n",
      "Processing for city: anar darreh\n",
      "There is no data for anar darreh. Moving to next city.\n",
      "Processing for city: vestmannaeyjar\n",
      "Processing for city: iqaluit\n",
      "Processing for city: xiongzhou\n",
      "Processing for city: mackay\n",
      "Processing for city: burgeo\n",
      "Processing for city: ojinaga\n",
      "Processing for city: kenora\n",
      "Processing for city: timra\n",
      "Processing for city: cilegon\n",
      "Processing for city: oschatz\n",
      "Processing for city: bengkulu\n",
      "Processing for city: ilulissat\n",
      "Processing for city: port blair\n",
      "Processing for city: amapa\n",
      "Processing for city: ternate\n"
     ]
    },
    {
     "name": "stdout",
     "output_type": "stream",
     "text": [
      "Processing for city: ankpa\n",
      "Processing for city: huancavelica\n",
      "Processing for city: hambantota\n",
      "Processing for city: vaitape\n",
      "Processing for city: mount barker\n",
      "Processing for city: ossipee\n",
      "Processing for city: la crosse\n",
      "Processing for city: arvika\n",
      "Processing for city: orda\n",
      "Processing for city: nantucket\n",
      "Processing for city: ajtos\n",
      "Processing for city: marcona\n",
      "There is no data for marcona. Moving to next city.\n",
      "Processing for city: gaziantep\n",
      "Processing for city: taoudenni\n",
      "Processing for city: manokwari\n",
      "Processing for city: derzhavinsk\n",
      "Processing for city: eregli\n",
      "Processing for city: chiredzi\n",
      "Processing for city: green valley\n",
      "Processing for city: itaueira\n",
      "Processing for city: mayo\n",
      "Processing for city: yerbogachen\n",
      "Processing for city: sancti spiritus\n",
      "Processing for city: asau\n",
      "Processing for city: tahta\n",
      "Processing for city: zyryanka\n",
      "Processing for city: polunochnoye\n",
      "Processing for city: kelo\n",
      "Processing for city: dudinka\n",
      "Processing for city: katsiveli\n",
      "There is no data for katsiveli. Moving to next city.\n",
      "Processing for city: tabiauea\n",
      "There is no data for tabiauea. Moving to next city.\n",
      "Processing for city: high level\n",
      "Processing for city: liuzhou\n",
      "Processing for city: jiayuguan\n",
      "Processing for city: nemuro\n",
      "Processing for city: sept-iles\n",
      "Processing for city: yarmouth\n",
      "Processing for city: owando\n",
      "Processing for city: saryshagan\n",
      "There is no data for saryshagan. Moving to next city.\n",
      "Processing for city: clearwater\n",
      "Processing for city: nalut\n",
      "Processing for city: lahij\n",
      "Processing for city: opuwo\n",
      "Processing for city: mangan\n",
      "Processing for city: serpneve\n",
      "Processing for city: huanren\n",
      "Processing for city: springbok\n",
      "Processing for city: blanes\n",
      "Processing for city: vila franca do campo\n",
      "Processing for city: devyatka\n",
      "There is no data for devyatka. Moving to next city.\n",
      "Processing for city: san rafael\n",
      "Processing for city: kalmunai\n",
      "Processing for city: ekibastuz\n",
      "Processing for city: chagda\n",
      "There is no data for chagda. Moving to next city.\n",
      "Processing for city: antofagasta\n",
      "Processing for city: akyab\n",
      "Processing for city: seymchan\n",
      "Processing for city: parakou\n",
      "Processing for city: sawtell\n",
      "Processing for city: juventino rosas\n",
      "Processing for city: lujiang\n",
      "Processing for city: boa vista\n",
      "Processing for city: san juan\n",
      "Processing for city: vostok\n",
      "Processing for city: veraval\n",
      "Processing for city: juifang\n",
      "There is no data for juifang. Moving to next city.\n",
      "Processing for city: santa maria da vitoria\n",
      "Processing for city: nshamba\n",
      "Processing for city: assela\n",
      "There is no data for assela. Moving to next city.\n",
      "Processing for city: naze\n",
      "Processing for city: sola\n",
      "Processing for city: dunedin\n",
      "Processing for city: blagoveshchenka\n",
      "Processing for city: nouakchott\n",
      "Processing for city: buguda\n",
      "Processing for city: andenes\n",
      "Processing for city: podgorica\n",
      "Processing for city: vilyuysk\n",
      "Processing for city: port hawkesbury\n",
      "Processing for city: obluche\n",
      "There is no data for obluche. Moving to next city.\n",
      "Processing for city: mehamn\n",
      "Processing for city: teknaf\n",
      "Processing for city: berezovyy\n",
      "Processing for city: nong chik\n",
      "Processing for city: umzimvubu\n",
      "There is no data for umzimvubu. Moving to next city.\n",
      "Processing for city: high rock\n",
      "Processing for city: awbari\n",
      "Processing for city: nirgua\n",
      "Processing for city: barabai\n",
      "Processing for city: boa esperanca\n",
      "Processing for city: sereflikochisar\n",
      "Processing for city: bull savanna\n",
      "Processing for city: xiantao\n",
      "Processing for city: requena\n",
      "Processing for city: balkanabat\n",
      "Processing for city: zaykovo\n",
      "Processing for city: sioux lookout\n",
      "Processing for city: sisimiut\n",
      "Processing for city: gidam\n",
      "Processing for city: erdenet\n",
      "Processing for city: hasaki\n",
      "Processing for city: waddan\n",
      "Processing for city: wulanhaote\n",
      "There is no data for wulanhaote. Moving to next city.\n",
      "Processing for city: balabac\n",
      "Processing for city: aswan\n",
      "Processing for city: porto novo\n",
      "Processing for city: marmora\n",
      "Processing for city: melfort\n",
      "Processing for city: dzhebariki-khaya\n",
      "Processing for city: maragogi\n",
      "Processing for city: siutu\n",
      "There is no data for siutu. Moving to next city.\n",
      "Processing for city: ituni\n",
      "There is no data for ituni. Moving to next city.\n",
      "Processing for city: saint anthony\n",
      "Processing for city: chiriguana\n",
      "Processing for city: coihaique\n",
      "Processing for city: paramirim\n",
      "Processing for city: levelland\n",
      "Processing for city: uruguaiana\n",
      "Processing for city: necochea\n",
      "Processing for city: mabaruma\n",
      "Processing for city: srednekolymsk\n",
      "Processing for city: saint-leu\n",
      "Processing for city: maceio\n",
      "Processing for city: jalu\n",
      "Processing for city: hervey bay\n",
      "Processing for city: bagdarin\n",
      "Processing for city: mae hong son\n",
      "Processing for city: maarianhamina\n",
      "Processing for city: kysyl-syr\n",
      "Processing for city: nioki\n",
      "Processing for city: palabuhanratu\n",
      "There is no data for palabuhanratu. Moving to next city.\n",
      "Processing for city: nalvo\n",
      "Processing for city: tabou\n",
      "Processing for city: kango\n",
      "Processing for city: medak\n",
      "Processing for city: kaseda\n",
      "Processing for city: tual\n",
      "Processing for city: vila velha\n",
      "Processing for city: fernley\n",
      "Processing for city: zhiryatino\n",
      "Processing for city: turinsk\n",
      "Processing for city: nongan\n",
      "Processing for city: comodoro rivadavia\n",
      "Processing for city: uddevalla\n"
     ]
    }
   ],
   "source": [
    "## Here I'm using a for loop to do an API call for each city in my list.\n",
    "for city in cities:\n",
    "    print(f'Processing for city: {city}')\n",
    "    responseJSON = requests.get(url + city + \"&appid=\" + apiKEY).json()\n",
    "    ## This if is to check, just in case, that a city hasn't been chosen twice\n",
    "    if city not in cityName:\n",
    "        ## Now we do a try here to make sure these work\n",
    "        try:\n",
    "            ## This loop goes through the response and grabs all the details I need and appends them to the lists I made earlier.\n",
    "            ## This way all the cities and their respective data have the same index in the lists\n",
    "            ## So when we make the dataframe later, the \n",
    "            latitude.append(responseJSON[\"coord\"][\"lat\"])\n",
    "            longitude.append(responseJSON[\"coord\"][\"lon\"])\n",
    "            temperature.append(responseJSON[\"main\"][\"temp\"])\n",
    "            humidity.append(responseJSON[\"main\"][\"humidity\"])\n",
    "            cloudiness.append(responseJSON[\"clouds\"][\"all\"])\n",
    "            windSpeed.append(responseJSON[\"wind\"][\"speed\"])\n",
    "            cityName.append(city)\n",
    "        ## If any of them don't, we ignore it and move to the next one\n",
    "        except:\n",
    "            print(f'There is no data for {city}. Moving to next city.')\n",
    "    ## If the city is already in the cityName list, it returns that the city has already been added and will move to the next one\n",
    "    else:\n",
    "        print(f'{city} has already been processed. Moving to next city.')"
   ]
  },
  {
   "cell_type": "markdown",
   "metadata": {},
   "source": [
    "### Convert Raw Data to DataFrame\n",
    "* Export the city data into a .csv.\n",
    "* Display the DataFrame"
   ]
  },
  {
   "cell_type": "code",
   "execution_count": 12,
   "metadata": {},
   "outputs": [
    {
     "data": {
      "text/html": [
       "<div>\n",
       "<style scoped>\n",
       "    .dataframe tbody tr th:only-of-type {\n",
       "        vertical-align: middle;\n",
       "    }\n",
       "\n",
       "    .dataframe tbody tr th {\n",
       "        vertical-align: top;\n",
       "    }\n",
       "\n",
       "    .dataframe thead th {\n",
       "        text-align: right;\n",
       "    }\n",
       "</style>\n",
       "<table border=\"1\" class=\"dataframe\">\n",
       "  <thead>\n",
       "    <tr style=\"text-align: right;\">\n",
       "      <th></th>\n",
       "      <th>City</th>\n",
       "      <th>Lat</th>\n",
       "      <th>Lng</th>\n",
       "      <th>Temp</th>\n",
       "      <th>Humidity</th>\n",
       "      <th>Cloudiness</th>\n",
       "      <th>Wind Speed</th>\n",
       "    </tr>\n",
       "  </thead>\n",
       "  <tbody>\n",
       "    <tr>\n",
       "      <th>0</th>\n",
       "      <td>rikitea</td>\n",
       "      <td>-23.1203</td>\n",
       "      <td>-134.9692</td>\n",
       "      <td>296.13</td>\n",
       "      <td>75</td>\n",
       "      <td>20</td>\n",
       "      <td>7.04</td>\n",
       "    </tr>\n",
       "    <tr>\n",
       "      <th>1</th>\n",
       "      <td>berestechko</td>\n",
       "      <td>50.3605</td>\n",
       "      <td>25.1107</td>\n",
       "      <td>300.93</td>\n",
       "      <td>64</td>\n",
       "      <td>73</td>\n",
       "      <td>5.56</td>\n",
       "    </tr>\n",
       "    <tr>\n",
       "      <th>2</th>\n",
       "      <td>fortuna</td>\n",
       "      <td>40.5982</td>\n",
       "      <td>-124.1573</td>\n",
       "      <td>284.72</td>\n",
       "      <td>93</td>\n",
       "      <td>90</td>\n",
       "      <td>0.00</td>\n",
       "    </tr>\n",
       "    <tr>\n",
       "      <th>3</th>\n",
       "      <td>provideniya</td>\n",
       "      <td>64.3833</td>\n",
       "      <td>-173.3000</td>\n",
       "      <td>282.04</td>\n",
       "      <td>99</td>\n",
       "      <td>100</td>\n",
       "      <td>1.50</td>\n",
       "    </tr>\n",
       "    <tr>\n",
       "      <th>4</th>\n",
       "      <td>klaksvik</td>\n",
       "      <td>62.2266</td>\n",
       "      <td>-6.5890</td>\n",
       "      <td>284.66</td>\n",
       "      <td>96</td>\n",
       "      <td>100</td>\n",
       "      <td>4.10</td>\n",
       "    </tr>\n",
       "    <tr>\n",
       "      <th>...</th>\n",
       "      <td>...</td>\n",
       "      <td>...</td>\n",
       "      <td>...</td>\n",
       "      <td>...</td>\n",
       "      <td>...</td>\n",
       "      <td>...</td>\n",
       "      <td>...</td>\n",
       "    </tr>\n",
       "    <tr>\n",
       "      <th>559</th>\n",
       "      <td>zhiryatino</td>\n",
       "      <td>53.2228</td>\n",
       "      <td>33.7306</td>\n",
       "      <td>300.33</td>\n",
       "      <td>62</td>\n",
       "      <td>10</td>\n",
       "      <td>1.16</td>\n",
       "    </tr>\n",
       "    <tr>\n",
       "      <th>560</th>\n",
       "      <td>turinsk</td>\n",
       "      <td>58.0458</td>\n",
       "      <td>63.6960</td>\n",
       "      <td>288.16</td>\n",
       "      <td>57</td>\n",
       "      <td>98</td>\n",
       "      <td>2.56</td>\n",
       "    </tr>\n",
       "    <tr>\n",
       "      <th>561</th>\n",
       "      <td>nongan</td>\n",
       "      <td>44.3820</td>\n",
       "      <td>125.1685</td>\n",
       "      <td>298.38</td>\n",
       "      <td>80</td>\n",
       "      <td>82</td>\n",
       "      <td>3.84</td>\n",
       "    </tr>\n",
       "    <tr>\n",
       "      <th>562</th>\n",
       "      <td>comodoro rivadavia</td>\n",
       "      <td>-45.8667</td>\n",
       "      <td>-67.5000</td>\n",
       "      <td>281.07</td>\n",
       "      <td>39</td>\n",
       "      <td>0</td>\n",
       "      <td>7.72</td>\n",
       "    </tr>\n",
       "    <tr>\n",
       "      <th>563</th>\n",
       "      <td>uddevalla</td>\n",
       "      <td>58.3478</td>\n",
       "      <td>11.9424</td>\n",
       "      <td>296.74</td>\n",
       "      <td>94</td>\n",
       "      <td>96</td>\n",
       "      <td>0.83</td>\n",
       "    </tr>\n",
       "  </tbody>\n",
       "</table>\n",
       "<p>564 rows × 7 columns</p>\n",
       "</div>"
      ],
      "text/plain": [
       "                   City      Lat       Lng    Temp  Humidity  Cloudiness  \\\n",
       "0               rikitea -23.1203 -134.9692  296.13        75          20   \n",
       "1           berestechko  50.3605   25.1107  300.93        64          73   \n",
       "2               fortuna  40.5982 -124.1573  284.72        93          90   \n",
       "3           provideniya  64.3833 -173.3000  282.04        99         100   \n",
       "4              klaksvik  62.2266   -6.5890  284.66        96         100   \n",
       "..                  ...      ...       ...     ...       ...         ...   \n",
       "559          zhiryatino  53.2228   33.7306  300.33        62          10   \n",
       "560             turinsk  58.0458   63.6960  288.16        57          98   \n",
       "561              nongan  44.3820  125.1685  298.38        80          82   \n",
       "562  comodoro rivadavia -45.8667  -67.5000  281.07        39           0   \n",
       "563           uddevalla  58.3478   11.9424  296.74        94          96   \n",
       "\n",
       "     Wind Speed  \n",
       "0          7.04  \n",
       "1          5.56  \n",
       "2          0.00  \n",
       "3          1.50  \n",
       "4          4.10  \n",
       "..          ...  \n",
       "559        1.16  \n",
       "560        2.56  \n",
       "561        3.84  \n",
       "562        7.72  \n",
       "563        0.83  \n",
       "\n",
       "[564 rows x 7 columns]"
      ]
     },
     "execution_count": 12,
     "metadata": {},
     "output_type": "execute_result"
    }
   ],
   "source": [
    "## Using the lists I made to create\n",
    "citiesDF = pd.DataFrame({\"City\" : cityName, \n",
    "                         \"Lat\" : latitude, \n",
    "                         \"Lng\" : longitude, \n",
    "                         \"Temp\" : temperature, \n",
    "                         \"Humidity\" : humidity, \n",
    "                         \"Cloudiness\" : cloudiness,\n",
    "                         \"Wind Speed\" : windSpeed})\n",
    "citiesDF"
   ]
  },
  {
   "cell_type": "code",
   "execution_count": 13,
   "metadata": {},
   "outputs": [
    {
     "data": {
      "text/html": [
       "<div>\n",
       "<style scoped>\n",
       "    .dataframe tbody tr th:only-of-type {\n",
       "        vertical-align: middle;\n",
       "    }\n",
       "\n",
       "    .dataframe tbody tr th {\n",
       "        vertical-align: top;\n",
       "    }\n",
       "\n",
       "    .dataframe thead th {\n",
       "        text-align: right;\n",
       "    }\n",
       "</style>\n",
       "<table border=\"1\" class=\"dataframe\">\n",
       "  <thead>\n",
       "    <tr style=\"text-align: right;\">\n",
       "      <th></th>\n",
       "      <th>Lat</th>\n",
       "      <th>Lng</th>\n",
       "      <th>Temp</th>\n",
       "      <th>Humidity</th>\n",
       "      <th>Cloudiness</th>\n",
       "      <th>Wind Speed</th>\n",
       "    </tr>\n",
       "  </thead>\n",
       "  <tbody>\n",
       "    <tr>\n",
       "      <th>count</th>\n",
       "      <td>564.000000</td>\n",
       "      <td>564.000000</td>\n",
       "      <td>564.000000</td>\n",
       "      <td>564.000000</td>\n",
       "      <td>564.000000</td>\n",
       "      <td>564.000000</td>\n",
       "    </tr>\n",
       "    <tr>\n",
       "      <th>mean</th>\n",
       "      <td>22.116310</td>\n",
       "      <td>16.126415</td>\n",
       "      <td>295.272961</td>\n",
       "      <td>66.693262</td>\n",
       "      <td>54.803191</td>\n",
       "      <td>3.619592</td>\n",
       "    </tr>\n",
       "    <tr>\n",
       "      <th>std</th>\n",
       "      <td>32.840754</td>\n",
       "      <td>90.935424</td>\n",
       "      <td>8.303386</td>\n",
       "      <td>22.384177</td>\n",
       "      <td>37.905865</td>\n",
       "      <td>2.520315</td>\n",
       "    </tr>\n",
       "    <tr>\n",
       "      <th>min</th>\n",
       "      <td>-54.800000</td>\n",
       "      <td>-179.166700</td>\n",
       "      <td>273.960000</td>\n",
       "      <td>5.000000</td>\n",
       "      <td>0.000000</td>\n",
       "      <td>0.000000</td>\n",
       "    </tr>\n",
       "    <tr>\n",
       "      <th>25%</th>\n",
       "      <td>-3.929475</td>\n",
       "      <td>-67.024050</td>\n",
       "      <td>289.357500</td>\n",
       "      <td>55.000000</td>\n",
       "      <td>19.500000</td>\n",
       "      <td>1.850000</td>\n",
       "    </tr>\n",
       "    <tr>\n",
       "      <th>50%</th>\n",
       "      <td>28.266700</td>\n",
       "      <td>19.249050</td>\n",
       "      <td>296.845000</td>\n",
       "      <td>71.500000</td>\n",
       "      <td>64.000000</td>\n",
       "      <td>3.090000</td>\n",
       "    </tr>\n",
       "    <tr>\n",
       "      <th>75%</th>\n",
       "      <td>49.791650</td>\n",
       "      <td>95.778725</td>\n",
       "      <td>301.142500</td>\n",
       "      <td>84.250000</td>\n",
       "      <td>90.000000</td>\n",
       "      <td>4.965000</td>\n",
       "    </tr>\n",
       "    <tr>\n",
       "      <th>max</th>\n",
       "      <td>78.218600</td>\n",
       "      <td>179.316700</td>\n",
       "      <td>319.690000</td>\n",
       "      <td>100.000000</td>\n",
       "      <td>100.000000</td>\n",
       "      <td>18.860000</td>\n",
       "    </tr>\n",
       "  </tbody>\n",
       "</table>\n",
       "</div>"
      ],
      "text/plain": [
       "              Lat         Lng        Temp    Humidity  Cloudiness  Wind Speed\n",
       "count  564.000000  564.000000  564.000000  564.000000  564.000000  564.000000\n",
       "mean    22.116310   16.126415  295.272961   66.693262   54.803191    3.619592\n",
       "std     32.840754   90.935424    8.303386   22.384177   37.905865    2.520315\n",
       "min    -54.800000 -179.166700  273.960000    5.000000    0.000000    0.000000\n",
       "25%     -3.929475  -67.024050  289.357500   55.000000   19.500000    1.850000\n",
       "50%     28.266700   19.249050  296.845000   71.500000   64.000000    3.090000\n",
       "75%     49.791650   95.778725  301.142500   84.250000   90.000000    4.965000\n",
       "max     78.218600  179.316700  319.690000  100.000000  100.000000   18.860000"
      ]
     },
     "execution_count": 13,
     "metadata": {},
     "output_type": "execute_result"
    }
   ],
   "source": [
    "## Getting a summary statistics table. The .describe method makes this super easy to display\n",
    "sumStats = citiesDF.describe()\n",
    "sumStats"
   ]
  },
  {
   "cell_type": "markdown",
   "metadata": {},
   "source": [
    "## Inspect the data and remove the cities where the humidity > 100%.\n",
    "----\n",
    "Skip this step if there are no cities that have humidity > 100%. "
   ]
  },
  {
   "cell_type": "code",
   "execution_count": 20,
   "metadata": {},
   "outputs": [
    {
     "data": {
      "text/html": [
       "<div>\n",
       "<style scoped>\n",
       "    .dataframe tbody tr th:only-of-type {\n",
       "        vertical-align: middle;\n",
       "    }\n",
       "\n",
       "    .dataframe tbody tr th {\n",
       "        vertical-align: top;\n",
       "    }\n",
       "\n",
       "    .dataframe thead th {\n",
       "        text-align: right;\n",
       "    }\n",
       "</style>\n",
       "<table border=\"1\" class=\"dataframe\">\n",
       "  <thead>\n",
       "    <tr style=\"text-align: right;\">\n",
       "      <th></th>\n",
       "      <th>City</th>\n",
       "      <th>Lat</th>\n",
       "      <th>Lng</th>\n",
       "      <th>Temp</th>\n",
       "      <th>Humidity</th>\n",
       "      <th>Cloudiness</th>\n",
       "      <th>Wind Speed</th>\n",
       "    </tr>\n",
       "  </thead>\n",
       "  <tbody>\n",
       "    <tr>\n",
       "      <th>0</th>\n",
       "      <td>rikitea</td>\n",
       "      <td>-23.1203</td>\n",
       "      <td>-134.9692</td>\n",
       "      <td>296.13</td>\n",
       "      <td>75</td>\n",
       "      <td>20</td>\n",
       "      <td>7.04</td>\n",
       "    </tr>\n",
       "    <tr>\n",
       "      <th>1</th>\n",
       "      <td>berestechko</td>\n",
       "      <td>50.3605</td>\n",
       "      <td>25.1107</td>\n",
       "      <td>300.93</td>\n",
       "      <td>64</td>\n",
       "      <td>73</td>\n",
       "      <td>5.56</td>\n",
       "    </tr>\n",
       "    <tr>\n",
       "      <th>2</th>\n",
       "      <td>fortuna</td>\n",
       "      <td>40.5982</td>\n",
       "      <td>-124.1573</td>\n",
       "      <td>284.72</td>\n",
       "      <td>93</td>\n",
       "      <td>90</td>\n",
       "      <td>0.00</td>\n",
       "    </tr>\n",
       "    <tr>\n",
       "      <th>3</th>\n",
       "      <td>provideniya</td>\n",
       "      <td>64.3833</td>\n",
       "      <td>-173.3000</td>\n",
       "      <td>282.04</td>\n",
       "      <td>99</td>\n",
       "      <td>100</td>\n",
       "      <td>1.50</td>\n",
       "    </tr>\n",
       "    <tr>\n",
       "      <th>4</th>\n",
       "      <td>klaksvik</td>\n",
       "      <td>62.2266</td>\n",
       "      <td>-6.5890</td>\n",
       "      <td>284.66</td>\n",
       "      <td>96</td>\n",
       "      <td>100</td>\n",
       "      <td>4.10</td>\n",
       "    </tr>\n",
       "    <tr>\n",
       "      <th>...</th>\n",
       "      <td>...</td>\n",
       "      <td>...</td>\n",
       "      <td>...</td>\n",
       "      <td>...</td>\n",
       "      <td>...</td>\n",
       "      <td>...</td>\n",
       "      <td>...</td>\n",
       "    </tr>\n",
       "    <tr>\n",
       "      <th>559</th>\n",
       "      <td>zhiryatino</td>\n",
       "      <td>53.2228</td>\n",
       "      <td>33.7306</td>\n",
       "      <td>300.33</td>\n",
       "      <td>62</td>\n",
       "      <td>10</td>\n",
       "      <td>1.16</td>\n",
       "    </tr>\n",
       "    <tr>\n",
       "      <th>560</th>\n",
       "      <td>turinsk</td>\n",
       "      <td>58.0458</td>\n",
       "      <td>63.6960</td>\n",
       "      <td>288.16</td>\n",
       "      <td>57</td>\n",
       "      <td>98</td>\n",
       "      <td>2.56</td>\n",
       "    </tr>\n",
       "    <tr>\n",
       "      <th>561</th>\n",
       "      <td>nongan</td>\n",
       "      <td>44.3820</td>\n",
       "      <td>125.1685</td>\n",
       "      <td>298.38</td>\n",
       "      <td>80</td>\n",
       "      <td>82</td>\n",
       "      <td>3.84</td>\n",
       "    </tr>\n",
       "    <tr>\n",
       "      <th>562</th>\n",
       "      <td>comodoro rivadavia</td>\n",
       "      <td>-45.8667</td>\n",
       "      <td>-67.5000</td>\n",
       "      <td>281.07</td>\n",
       "      <td>39</td>\n",
       "      <td>0</td>\n",
       "      <td>7.72</td>\n",
       "    </tr>\n",
       "    <tr>\n",
       "      <th>563</th>\n",
       "      <td>uddevalla</td>\n",
       "      <td>58.3478</td>\n",
       "      <td>11.9424</td>\n",
       "      <td>296.74</td>\n",
       "      <td>94</td>\n",
       "      <td>96</td>\n",
       "      <td>0.83</td>\n",
       "    </tr>\n",
       "  </tbody>\n",
       "</table>\n",
       "<p>564 rows × 7 columns</p>\n",
       "</div>"
      ],
      "text/plain": [
       "                   City      Lat       Lng    Temp  Humidity  Cloudiness  \\\n",
       "0               rikitea -23.1203 -134.9692  296.13        75          20   \n",
       "1           berestechko  50.3605   25.1107  300.93        64          73   \n",
       "2               fortuna  40.5982 -124.1573  284.72        93          90   \n",
       "3           provideniya  64.3833 -173.3000  282.04        99         100   \n",
       "4              klaksvik  62.2266   -6.5890  284.66        96         100   \n",
       "..                  ...      ...       ...     ...       ...         ...   \n",
       "559          zhiryatino  53.2228   33.7306  300.33        62          10   \n",
       "560             turinsk  58.0458   63.6960  288.16        57          98   \n",
       "561              nongan  44.3820  125.1685  298.38        80          82   \n",
       "562  comodoro rivadavia -45.8667  -67.5000  281.07        39           0   \n",
       "563           uddevalla  58.3478   11.9424  296.74        94          96   \n",
       "\n",
       "     Wind Speed  \n",
       "0          7.04  \n",
       "1          5.56  \n",
       "2          0.00  \n",
       "3          1.50  \n",
       "4          4.10  \n",
       "..          ...  \n",
       "559        1.16  \n",
       "560        2.56  \n",
       "561        3.84  \n",
       "562        7.72  \n",
       "563        0.83  \n",
       "\n",
       "[564 rows x 7 columns]"
      ]
     },
     "execution_count": 20,
     "metadata": {},
     "output_type": "execute_result"
    }
   ],
   "source": [
    "## This says skip this step if there are no cities with humidity over 100% which my data doesn't contain\n",
    "## However, for general use, I'll still write code that does drop the values\n",
    "cleanCityData = citiesDF[citiesDF.Humidity <= 100]\n",
    "cleanCityData"
   ]
  },
  {
   "cell_type": "code",
   "execution_count": 18,
   "metadata": {},
   "outputs": [],
   "source": [
    "#  Get the indices of cities that have humidity over 100%.\n",
    "\n",
    "## This isn't necessary since I can just do the search from the above cell that filters out all cities that have humidity\n",
    "## less than or equal to 100 effectively dropping all data with humidity greater than 100"
   ]
  },
  {
   "cell_type": "code",
   "execution_count": 17,
   "metadata": {},
   "outputs": [],
   "source": [
    "# Make a new DataFrame equal to the city data to drop all humidity outliers by index.\n",
    "# Passing \"inplace=False\" will make a copy of the city_data DataFrame, which we call \"clean_city_data\".\n",
    "\n",
    "## Also not necessary. See above."
   ]
  },
  {
   "cell_type": "markdown",
   "metadata": {},
   "source": [
    "## Plotting the Data\n",
    "* Use proper labeling of the plots using plot titles (including date of analysis) and axes labels.\n",
    "* Save the plotted figures as .pngs."
   ]
  },
  {
   "cell_type": "markdown",
   "metadata": {},
   "source": [
    "## Latitude vs. Temperature Plot"
   ]
  },
  {
   "cell_type": "code",
   "execution_count": 34,
   "metadata": {
    "scrolled": true
   },
   "outputs": [
    {
     "data": {
      "image/png": "[encoded data removed]",
      "text/plain": [
       "<Figure size 432x288 with 1 Axes>"
      ]
     },
     "metadata": {
      "needs_background": "light"
     },
     "output_type": "display_data"
    }
   ],
   "source": [
    "plt.scatter(cleanCityData[\"Lat\"], cleanCityData[\"Temp\"], c = \"black\", edgecolors = \"red\")\n",
    "plt.title(\"Latitude vs Temperature\")\n",
    "plt.xlabel(\"Latitude\")\n",
    "plt.ylabel(\"Temperature (F)\")\n",
    "plt.xlim(-90, 90)\n",
    "plt.show()"
   ]
  },
  {
   "cell_type": "markdown",
   "metadata": {},
   "source": [
    "## Latitude vs. Humidity Plot"
   ]
  },
  {
   "cell_type": "code",
   "execution_count": 37,
   "metadata": {},
   "outputs": [
    {
     "data": {
      "image/png": "[encoded data removed]",
      "text/plain": [
       "<Figure size 432x288 with 1 Axes>"
      ]
     },
     "metadata": {
      "needs_background": "light"
     },
     "output_type": "display_data"
    }
   ],
   "source": [
    "plt.scatter(cleanCityData[\"Lat\"], cleanCityData[\"Humidity\"], c = \"black\", edgecolors = \"red\")\n",
    "plt.title(\"Latitude vs Temperature\")\n",
    "plt.xlabel(\"Latitude\")\n",
    "plt.ylabel(\"Humidity (%)\")\n",
    "plt.xlim(-90, 90)\n",
    "plt.show()"
   ]
  },
  {
   "cell_type": "markdown",
   "metadata": {},
   "source": [
    "## Latitude vs. Cloudiness Plot"
   ]
  },
  {
   "cell_type": "code",
   "execution_count": 38,
   "metadata": {},
   "outputs": [
    {
     "data": {
      "image/png": "[encoded data removed]",
      "text/plain": [
       "<Figure size 432x288 with 1 Axes>"
      ]
     },
     "metadata": {
      "needs_background": "light"
     },
     "output_type": "display_data"
    }
   ],
   "source": [
    "plt.scatter(cleanCityData[\"Lat\"], cleanCityData[\"Cloudiness\"], c = \"black\", edgecolors = \"red\")\n",
    "plt.title(\"Latitude vs Temperature\")\n",
    "plt.xlabel(\"Latitude\")\n",
    "plt.ylabel(\"Cloudiness (%)\")\n",
    "plt.xlim(-90, 90)\n",
    "plt.show()"
   ]
  },
  {
   "cell_type": "markdown",
   "metadata": {},
   "source": [
    "## Latitude vs. Wind Speed Plot"
   ]
  },
  {
   "cell_type": "code",
   "execution_count": 39,
   "metadata": {},
   "outputs": [
    {
     "data": {
      "image/png": "[encoded data removed]",
      "text/plain": [
       "<Figure size 432x288 with 1 Axes>"
      ]
     },
     "metadata": {
      "needs_background": "light"
     },
     "output_type": "display_data"
    }
   ],
   "source": [
    "plt.scatter(cleanCityData[\"Lat\"], cleanCityData[\"Wind Speed\"], c = \"black\", edgecolors = \"red\")\n",
    "plt.title(\"Latitude vs Temperature\")\n",
    "plt.xlabel(\"Latitude\")\n",
    "plt.ylabel(\"Wind Speed (MPH)\")\n",
    "plt.xlim(-90, 90)\n",
    "plt.show()"
   ]
  },
  {
   "cell_type": "markdown",
   "metadata": {},
   "source": [
    "## Linear Regression"
   ]
  },
  {
   "cell_type": "code",
   "execution_count": 24,
   "metadata": {},
   "outputs": [],
   "source": []
  },
  {
   "cell_type": "markdown",
   "metadata": {},
   "source": [
    "####  Northern Hemisphere - Max Temp vs. Latitude Linear Regression"
   ]
  },
  {
   "cell_type": "code",
   "execution_count": 25,
   "metadata": {},
   "outputs": [
    {
     "name": "stdout",
     "output_type": "stream",
     "text": [
      "The r-value is: 0.46937863826630627\n"
     ]
    },
    {
     "data": {
      "image/png": "[encoded data removed]",
      "text/plain": [
       "<Figure size 432x288 with 1 Axes>"
      ]
     },
     "metadata": {
      "needs_background": "light"
     },
     "output_type": "display_data"
    }
   ],
   "source": []
  },
  {
   "cell_type": "markdown",
   "metadata": {},
   "source": [
    "####  Southern Hemisphere - Max Temp vs. Latitude Linear Regression"
   ]
  },
  {
   "cell_type": "code",
   "execution_count": 26,
   "metadata": {},
   "outputs": [
    {
     "name": "stdout",
     "output_type": "stream",
     "text": [
      "The r-value is: 0.6082708688906918\n"
     ]
    },
    {
     "data": {
      "image/png": "[encoded data removed]",
      "text/plain": [
       "<Figure size 432x288 with 1 Axes>"
      ]
     },
     "metadata": {
      "needs_background": "light"
     },
     "output_type": "display_data"
    }
   ],
   "source": []
  },
  {
   "cell_type": "markdown",
   "metadata": {},
   "source": [
    "####  Northern Hemisphere - Humidity (%) vs. Latitude Linear Regression"
   ]
  },
  {
   "cell_type": "code",
   "execution_count": 27,
   "metadata": {},
   "outputs": [
    {
     "name": "stdout",
     "output_type": "stream",
     "text": [
      "The r-value is: 0.000543987878808455\n"
     ]
    },
    {
     "data": {
      "image/png": "[encoded data removed]",
      "text/plain": [
       "<Figure size 432x288 with 1 Axes>"
      ]
     },
     "metadata": {
      "needs_background": "light"
     },
     "output_type": "display_data"
    }
   ],
   "source": []
  },
  {
   "cell_type": "markdown",
   "metadata": {},
   "source": [
    "####  Southern Hemisphere - Humidity (%) vs. Latitude Linear Regression"
   ]
  },
  {
   "cell_type": "code",
   "execution_count": 28,
   "metadata": {},
   "outputs": [
    {
     "name": "stdout",
     "output_type": "stream",
     "text": [
      "The r-value is: 0.014985174297345524\n"
     ]
    },
    {
     "data": {
      "image/png": "[encoded data removed]",
      "text/plain": [
       "<Figure size 432x288 with 1 Axes>"
      ]
     },
     "metadata": {
      "needs_background": "light"
     },
     "output_type": "display_data"
    }
   ],
   "source": []
  },
  {
   "cell_type": "markdown",
   "metadata": {},
   "source": [
    "####  Northern Hemisphere - Cloudiness (%) vs. Latitude Linear Regression"
   ]
  },
  {
   "cell_type": "code",
   "execution_count": 29,
   "metadata": {},
   "outputs": [
    {
     "name": "stdout",
     "output_type": "stream",
     "text": [
      "The r-value is: 0.0020898727664228514\n"
     ]
    },
    {
     "data": {
      "image/png": "[encoded data removed]",
      "text/plain": [
       "<Figure size 432x288 with 1 Axes>"
      ]
     },
     "metadata": {
      "needs_background": "light"
     },
     "output_type": "display_data"
    }
   ],
   "source": []
  },
  {
   "cell_type": "markdown",
   "metadata": {},
   "source": [
    "####  Southern Hemisphere - Cloudiness (%) vs. Latitude Linear Regression"
   ]
  },
  {
   "cell_type": "code",
   "execution_count": 30,
   "metadata": {},
   "outputs": [
    {
     "name": "stdout",
     "output_type": "stream",
     "text": [
      "The r-value is: 0.0035263772085582894\n"
     ]
    },
    {
     "data": {
      "image/png": "[encoded data removed]",
      "text/plain": [
       "<Figure size 432x288 with 1 Axes>"
      ]
     },
     "metadata": {
      "needs_background": "light"
     },
     "output_type": "display_data"
    }
   ],
   "source": []
  },
  {
   "cell_type": "markdown",
   "metadata": {},
   "source": [
    "####  Northern Hemisphere - Wind Speed (mph) vs. Latitude Linear Regression"
   ]
  },
  {
   "cell_type": "code",
   "execution_count": 31,
   "metadata": {},
   "outputs": [
    {
     "name": "stdout",
     "output_type": "stream",
     "text": [
      "The r-value is: 0.04019723576144484\n"
     ]
    },
    {
     "data": {
      "image/png": "[encoded data removed]",
      "text/plain": [
       "<Figure size 432x288 with 1 Axes>"
      ]
     },
     "metadata": {
      "needs_background": "light"
     },
     "output_type": "display_data"
    }
   ],
   "source": []
  },
  {
   "cell_type": "markdown",
   "metadata": {},
   "source": [
    "####  Southern Hemisphere - Wind Speed (mph) vs. Latitude Linear Regression"
   ]
  },
  {
   "cell_type": "code",
   "execution_count": 32,
   "metadata": {},
   "outputs": [
    {
     "name": "stdout",
     "output_type": "stream",
     "text": [
      "The r-value is: 0.017128274759839232\n"
     ]
    },
    {
     "data": {
      "image/png": "[encoded data removed]",
      "text/plain": [
       "<Figure size 432x288 with 1 Axes>"
      ]
     },
     "metadata": {
      "needs_background": "light"
     },
     "output_type": "display_data"
    }
   ],
   "source": []
  },
  {
   "cell_type": "code",
   "execution_count": null,
   "metadata": {},
   "outputs": [],
   "source": []
  }
 ],
 "metadata": {
  "anaconda-cloud": {},
  "kernel_info": {
   "name": "python3"
  },
  "kernelspec": {
   "display_name": "Python 3",
   "language": "python",
   "name": "python3"
  },
  "language_info": {
   "codemirror_mode": {
    "name": "ipython",
    "version": 3
   },
   "file_extension": ".py",
   "mimetype": "text/x-python",
   "name": "python",
   "nbconvert_exporter": "python",
   "pygments_lexer": "ipython3",
   "version": "3.7.10"
  },
  "latex_envs": {
   "LaTeX_envs_menu_present": true,
   "autoclose": false,
   "autocomplete": true,
   "bibliofile": "biblio.bib",
   "cite_by": "apalike",
   "current_citInitial": 1,
   "eqLabelWithNumbers": true,
   "eqNumInitial": 1,
   "hotkeys": {
    "equation": "Ctrl-E",
    "itemize": "Ctrl-I"
   },
   "labels_anchors": false,
   "latex_user_defs": false,
   "report_style_numbering": false,
   "user_envs_cfg": false
  },
  "nteract": {
   "version": "0.12.3"
  }
 },
 "nbformat": 4,
 "nbformat_minor": 2
}
